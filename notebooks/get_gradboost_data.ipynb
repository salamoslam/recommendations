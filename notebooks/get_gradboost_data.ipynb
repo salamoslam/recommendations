{
 "cells": [
  {
   "cell_type": "code",
   "execution_count": 1,
   "id": "fcc6aa88",
   "metadata": {
    "pycharm": {
     "name": "#%%\n"
    }
   },
   "outputs": [],
   "source": [
    "import warnings\n",
    "warnings.filterwarnings(\"ignore\")"
   ]
  },
  {
   "cell_type": "code",
   "execution_count": 2,
   "id": "18f61005",
   "metadata": {
    "pycharm": {
     "name": "#%%\n"
    }
   },
   "outputs": [],
   "source": [
    "import sys\n",
    "import lightgbm\n",
    "import pandas as pd\n",
    "import numpy as np\n",
    "sys.path.append('../src/data')\n",
    "# from get_users_info import *\n",
    "# from get_brand_category_info import *\n",
    "# from get_preference_matrix import *\n",
    "# from get_popular_items import *\n",
    "from tqdm import tqdm\n",
    "from pymongo import MongoClient\n",
    "import certifi\n",
    "from lightfm import LightFM\n",
    "from lightfm.datasets import fetch_movielens\n",
    "from lightfm.evaluation import precision_at_k, recall_at_k\n",
    "import os\n",
    "from pathlib import Path\n",
    "import datetime\n",
    "from scipy.sparse import csr_matrix, coo_matrix\n",
    "import lightgbm\n",
    "import plotly.express as px\n",
    "import matplotlib.pyplot as plt"
   ]
  },
  {
   "cell_type": "code",
   "execution_count": 3,
   "id": "259210fb",
   "metadata": {
    "pycharm": {
     "name": "#%%\n"
    }
   },
   "outputs": [],
   "source": [
    "sys.path.append('../src/collaborative_filtration')\n",
    "from get_train_test_matrices import *"
   ]
  },
  {
   "cell_type": "code",
   "execution_count": 4,
   "id": "dfa8926b",
   "metadata": {
    "pycharm": {
     "name": "#%%\n"
    }
   },
   "outputs": [],
   "source": [
    "pd.set_option('display.max_columns', 1000)\n",
    "# pd.set_option('display.max_rows', 1000)"
   ]
  },
  {
   "cell_type": "code",
   "execution_count": 37,
   "id": "c23b288a",
   "metadata": {
    "pycharm": {
     "name": "#%%\n"
    }
   },
   "outputs": [],
   "source": [
    "import_path = str(Path(sys.path[0]).parent) + '/data/interim/'"
   ]
  },
  {
   "cell_type": "code",
   "execution_count": 38,
   "id": "e86d7ece",
   "metadata": {
    "pycharm": {
     "name": "#%%\n"
    }
   },
   "outputs": [],
   "source": [
    "user_item_old = pd.read_csv(import_path + 'user_group_info_old.csv').set_index('ym_client_id')\n",
    "user_item = pd.read_csv(import_path + 'user_group_info.csv').set_index('ym_client_id')"
   ]
  },
  {
   "cell_type": "code",
   "execution_count": 41,
   "id": "b0adaa08",
   "metadata": {
    "pycharm": {
     "name": "#%%\n"
    }
   },
   "outputs": [
    {
     "data": {
      "text/plain": [
       "0.017484312040037874"
      ]
     },
     "execution_count": 41,
     "metadata": {},
     "output_type": "execute_result"
    }
   ],
   "source": [
    "# смотрим заполненность ячеек матрицы юзер айтем\n",
    "(cut_user_item(user_item.T)>0).mean().mean()"
   ]
  },
  {
   "cell_type": "markdown",
   "id": "0faf44a4",
   "metadata": {
    "pycharm": {
     "name": "#%% md\n"
    }
   },
   "source": [
    "### подгружаем датасет со взаимодействиями"
   ]
  },
  {
   "cell_type": "code",
   "execution_count": 44,
   "id": "33680d99",
   "metadata": {
    "pycharm": {
     "name": "#%%\n"
    }
   },
   "outputs": [],
   "source": [
    "# подрубаем старый датасет\n",
    "triple_old = pd.read_csv(import_path + 'user_group_melt_old.csv').iloc[:,1:]\n",
    "triple = pd.read_csv(import_path + 'user_group_melt.csv').iloc[:,1:]\n",
    "\n",
    "triple_old.ym_client_id = triple_old.ym_client_id.astype(str)\n",
    "triple.ym_client_id = triple.ym_client_id.astype(str)"
   ]
  },
  {
   "cell_type": "markdown",
   "id": "0b4027a9",
   "metadata": {
    "pycharm": {
     "name": "#%% md\n"
    }
   },
   "source": [
    "### подгружаем инфу по брендам-категориям"
   ]
  },
  {
   "cell_type": "code",
   "execution_count": 48,
   "id": "d94a7959",
   "metadata": {
    "pycharm": {
     "name": "#%%\n"
    }
   },
   "outputs": [],
   "source": [
    "brand_categ_old = pd.read_csv(import_path + 'brand_category_info_old.csv')\n",
    "brand_categ_info = pd.read_csv(import_path + 'brand_category_info.csv')\n",
    "\n",
    "brand_categ_info.set_index(['brand','Группа категорий'], inplace = True)\n",
    "brand_categ_old.set_index(['brand','Группа категорий'], inplace = True)\n",
    "\n",
    "\n",
    "brand_categ_info.loc[:,'brand_categ'] = np.array(brand_categ_info.index)\n",
    "brand_categ_info.brand_categ = brand_categ_info.brand_categ.astype(str)\n",
    "\n",
    "brand_categ_old.loc[:,'brand_categ'] = np.array(brand_categ_old.index)\n",
    "brand_categ_old.brand_categ = brand_categ_old.brand_categ.astype(str)"
   ]
  },
  {
   "cell_type": "markdown",
   "id": "299cd31a",
   "metadata": {
    "pycharm": {
     "name": "#%% md\n"
    }
   },
   "source": [
    "### подгружаем инфу по юзерам"
   ]
  },
  {
   "cell_type": "code",
   "execution_count": 49,
   "id": "9de0dcc3",
   "metadata": {
    "pycharm": {
     "name": "#%%\n"
    }
   },
   "outputs": [],
   "source": [
    "users_info_old = pd.read_csv(import_path + 'users_info_old.csv').rename(columns={'Unnamed: 0':'ym_client_id'})\n",
    "users_info = pd.read_csv(import_path + 'users_info.csv').rename(columns={'Unnamed: 0':'ym_client_id'})\n",
    "\n",
    "users_info.ym_client_id = users_info.ym_client_id.astype(str)\n",
    "users_info_old.ym_client_id = users_info_old.ym_client_id.astype(str)"
   ]
  },
  {
   "cell_type": "markdown",
   "id": "b0ae13d1",
   "metadata": {
    "pycharm": {
     "name": "#%% md\n"
    }
   },
   "source": [
    "### соединяем воедино все, сначала новый"
   ]
  },
  {
   "cell_type": "code",
   "execution_count": 55,
   "id": "58a19065",
   "metadata": {
    "pycharm": {
     "name": "#%%\n"
    }
   },
   "outputs": [],
   "source": [
    "gb_df = user_item.reset_index().melt(id_vars='ym_client_id', var_name='brand_categ')\n",
    "\n",
    "gb_df.ym_client_id = gb_df.ym_client_id.astype(str)"
   ]
  },
  {
   "cell_type": "code",
   "execution_count": 56,
   "id": "6716d0b7",
   "metadata": {
    "pycharm": {
     "name": "#%%\n"
    }
   },
   "outputs": [],
   "source": [
    "gb_full = gb_df.merge(users_info, \n",
    "                       on='ym_client_id', \n",
    "                       how='left')\n",
    "gb_full = gb_full.merge(brand_categ_info, \n",
    "                        how='left',\n",
    "                        on='brand_categ')\n",
    "gb_full = gb_full.merge(triple, \n",
    "                        how = 'left', \n",
    "                        on = ['ym_client_id','brand_categ'])"
   ]
  },
  {
   "cell_type": "code",
   "execution_count": 65,
   "id": "8ad64fd8",
   "metadata": {
    "pycharm": {
     "name": "#%%\n"
    }
   },
   "outputs": [],
   "source": [
    "cols = gb_full.select_dtypes(include=[np.float64]).columns\n",
    "gb_full = gb_full.fillna(0)\n",
    "gb_full[cols] = gb_full[cols].astype(np.int16)"
   ]
  },
  {
   "cell_type": "code",
   "execution_count": 66,
   "id": "4a296cf3",
   "metadata": {
    "pycharm": {
     "name": "#%%\n"
    }
   },
   "outputs": [],
   "source": [
    "gb_full.loc[:,'target'] = np.where(gb_full.cart_counter + gb_full.wishlist_counter > 0,1,0)"
   ]
  },
  {
   "cell_type": "code",
   "execution_count": 67,
   "id": "7f6ddcae",
   "metadata": {
    "pycharm": {
     "name": "#%%\n"
    },
    "scrolled": true
   },
   "outputs": [],
   "source": [
    "gb_full.drop(columns=['products','carts','wish','id_s list','view_times', 'value', 'sum'], inplace=True)"
   ]
  },
  {
   "cell_type": "code",
   "execution_count": 73,
   "id": "1dd1f8d0",
   "metadata": {
    "pycharm": {
     "name": "#%%\n"
    },
    "scrolled": true
   },
   "outputs": [],
   "source": [
    "gb_full.to_csv(import_path+'grad_boost_new.csv')"
   ]
  },
  {
   "cell_type": "markdown",
   "id": "81ba4e4e",
   "metadata": {
    "pycharm": {
     "name": "#%% md\n"
    }
   },
   "source": [
    "### теперь для тренировочного датасета"
   ]
  },
  {
   "cell_type": "code",
   "execution_count": 62,
   "id": "e3f7c27c",
   "metadata": {
    "pycharm": {
     "name": "#%%\n"
    }
   },
   "outputs": [],
   "source": [
    "gb_df_old = user_item_old.reset_index().melt(id_vars='ym_client_id', var_name='brand_categ')\n",
    "\n",
    "gb_df_old.ym_client_id = gb_df_old.ym_client_id.astype(str)"
   ]
  },
  {
   "cell_type": "code",
   "execution_count": 63,
   "id": "e1e3a0a6",
   "metadata": {
    "pycharm": {
     "name": "#%%\n"
    }
   },
   "outputs": [],
   "source": [
    "gb_full_old = gb_df_old.merge(users_info_old,\n",
    "                       on='ym_client_id',\n",
    "                       how='left').merge(brand_categ_old,\n",
    "                                         how='left',\n",
    "                                         on='brand_categ').merge(triple_old,\n",
    "                        how = 'left',\n",
    "                        on = ['ym_client_id','brand_categ'])"
   ]
  },
  {
   "cell_type": "code",
   "execution_count": 69,
   "id": "d1dcfcfa",
   "metadata": {
    "pycharm": {
     "name": "#%%\n"
    }
   },
   "outputs": [],
   "source": [
    "cols_old = gb_full_old.select_dtypes(include=[np.float64]).columns\n",
    "gb_full_old = gb_full_old.fillna(0)\n",
    "gb_full_old[cols] = gb_full_old[cols].astype(np.int16)"
   ]
  },
  {
   "cell_type": "code",
   "execution_count": 70,
   "id": "8f88a602",
   "metadata": {
    "pycharm": {
     "name": "#%%\n"
    }
   },
   "outputs": [],
   "source": [
    "gb_full_old.loc[:,'target'] = np.where(gb_full_old.cart_counter + gb_full_old.wishlist_counter > 0,1,0)"
   ]
  },
  {
   "cell_type": "code",
   "execution_count": 71,
   "id": "9fe7ecc2",
   "metadata": {
    "pycharm": {
     "name": "#%%\n"
    }
   },
   "outputs": [],
   "source": [
    "gb_full_old.drop(columns=['products','carts','wish','id_s list','view_times', 'value', 'sum'], inplace=True)"
   ]
  },
  {
   "cell_type": "code",
   "execution_count": 74,
   "id": "88755c53",
   "metadata": {
    "pycharm": {
     "name": "#%%\n"
    }
   },
   "outputs": [],
   "source": [
    "gb_full_old.to_csv(import_path+'grad_boost_old.csv')"
   ]
  },
  {
   "cell_type": "markdown",
   "id": "d851606a",
   "metadata": {
    "pycharm": {
     "name": "#%% md\n"
    }
   },
   "source": [
    "### достаем индексы для сверки с коллаборативкой"
   ]
  },
  {
   "cell_type": "code",
   "execution_count": 75,
   "id": "2f6b2f52",
   "metadata": {
    "pycharm": {
     "name": "#%%\n"
    }
   },
   "outputs": [],
   "source": [
    "gb_full_gb = gb_full.groupby('ym_client_id').agg({'heat_count':sum, 'target':sum})"
   ]
  },
  {
   "cell_type": "code",
   "execution_count": 76,
   "id": "52330dc0",
   "metadata": {
    "pycharm": {
     "name": "#%%\n"
    }
   },
   "outputs": [],
   "source": [
    "gb_full_old_gb = gb_full_old.groupby('ym_client_id').agg({'heat_count':sum, 'target':sum})"
   ]
  },
  {
   "cell_type": "code",
   "execution_count": 86,
   "id": "8e9145cf",
   "metadata": {
    "pycharm": {
     "name": "#%%\n"
    }
   },
   "outputs": [],
   "source": [
    "gb_changes = gb_full_gb.join(gb_full_old_gb, rsuffix='_old')"
   ]
  },
  {
   "cell_type": "code",
   "execution_count": 91,
   "id": "f733307c",
   "metadata": {
    "pycharm": {
     "name": "#%%\n"
    }
   },
   "outputs": [],
   "source": [
    "gb_changes.fillna(int(0),  inplace = True)"
   ]
  },
  {
   "cell_type": "code",
   "execution_count": 92,
   "id": "04e28aea",
   "metadata": {
    "pycharm": {
     "name": "#%%\n"
    }
   },
   "outputs": [],
   "source": [
    "gb_changes.loc[:,'changed'] = gb_changes.heat_count+gb_changes.target - gb_changes.heat_count_old - gb_changes.target_old"
   ]
  },
  {
   "cell_type": "code",
   "execution_count": 93,
   "id": "5177ee23",
   "metadata": {
    "pycharm": {
     "name": "#%%\n"
    }
   },
   "outputs": [],
   "source": [
    "gb_changes.loc[:,'changed_cart'] = gb_changes.target - gb_changes.target_old"
   ]
  },
  {
   "cell_type": "code",
   "execution_count": 99,
   "id": "a79e488d",
   "metadata": {
    "pycharm": {
     "name": "#%%\n"
    }
   },
   "outputs": [],
   "source": [
    "changed_ids = gb_changes.loc[gb_changes.changed>0].index"
   ]
  },
  {
   "cell_type": "code",
   "execution_count": 100,
   "id": "ce166f4c",
   "metadata": {
    "pycharm": {
     "name": "#%%\n"
    }
   },
   "outputs": [],
   "source": [
    "changed_ids_cart = gb_changes.loc[gb_changes.changed_cart>0].index"
   ]
  },
  {
   "cell_type": "markdown",
   "id": "05ab1678",
   "metadata": {
    "pycharm": {
     "name": "#%% md\n"
    }
   },
   "source": [
    "### докидываем данные из коллаборативки (нужно было только для диплома)"
   ]
  },
  {
   "cell_type": "code",
   "execution_count": 22,
   "id": "223a21e7",
   "metadata": {
    "pycharm": {
     "name": "#%%\n"
    }
   },
   "outputs": [],
   "source": [
    "# индексы для сверки с коллаборативкой\n",
    "user_item_diff = pd.read_csv(import_path+'user_item_diff.csv').rename(columns = {'Unnamed: 0':'ym_client_id'})"
   ]
  },
  {
   "cell_type": "code",
   "execution_count": 25,
   "id": "8606b409",
   "metadata": {
    "pycharm": {
     "name": "#%%\n"
    }
   },
   "outputs": [],
   "source": [
    "changed_ids = user_item_diff['ym_client_id'].astype(str)"
   ]
  },
  {
   "cell_type": "code",
   "execution_count": 23,
   "id": "24b2b66c",
   "metadata": {
    "pycharm": {
     "name": "#%%\n"
    }
   },
   "outputs": [
    {
     "data": {
      "text/html": [
       "<div>\n",
       "<style scoped>\n",
       "    .dataframe tbody tr th:only-of-type {\n",
       "        vertical-align: middle;\n",
       "    }\n",
       "\n",
       "    .dataframe tbody tr th {\n",
       "        vertical-align: top;\n",
       "    }\n",
       "\n",
       "    .dataframe thead th {\n",
       "        text-align: right;\n",
       "    }\n",
       "</style>\n",
       "<table border=\"1\" class=\"dataframe\">\n",
       "  <thead>\n",
       "    <tr style=\"text-align: right;\">\n",
       "      <th></th>\n",
       "      <th>ym_client_id</th>\n",
       "      <th>brand_categ</th>\n",
       "      <th>views</th>\n",
       "      <th>products_quan</th>\n",
       "      <th>carts_quan</th>\n",
       "      <th>wish_quan</th>\n",
       "      <th>id count</th>\n",
       "      <th>price_mean</th>\n",
       "      <th>price_min</th>\n",
       "      <th>price_max</th>\n",
       "      <th>total_views</th>\n",
       "      <th>mean_views</th>\n",
       "      <th>heat_count</th>\n",
       "      <th>target</th>\n",
       "    </tr>\n",
       "  </thead>\n",
       "  <tbody>\n",
       "    <tr>\n",
       "      <th>9148920</th>\n",
       "      <td>1586517765142996502</td>\n",
       "      <td>('Number (N)ine', 'Деним')</td>\n",
       "      <td>579</td>\n",
       "      <td>46</td>\n",
       "      <td>0</td>\n",
       "      <td>0</td>\n",
       "      <td>2</td>\n",
       "      <td>12000</td>\n",
       "      <td>12000</td>\n",
       "      <td>12000</td>\n",
       "      <td>66</td>\n",
       "      <td>33</td>\n",
       "      <td>0</td>\n",
       "      <td>0</td>\n",
       "    </tr>\n",
       "    <tr>\n",
       "      <th>5908080</th>\n",
       "      <td>1586517765142996502</td>\n",
       "      <td>('Gucci', 'Туфли')</td>\n",
       "      <td>579</td>\n",
       "      <td>46</td>\n",
       "      <td>0</td>\n",
       "      <td>0</td>\n",
       "      <td>2</td>\n",
       "      <td>30000</td>\n",
       "      <td>28000</td>\n",
       "      <td>32000</td>\n",
       "      <td>73</td>\n",
       "      <td>36</td>\n",
       "      <td>0</td>\n",
       "      <td>0</td>\n",
       "    </tr>\n",
       "    <tr>\n",
       "      <th>14397360</th>\n",
       "      <td>1586517765142996502</td>\n",
       "      <td>('YOSYA', 'Украшения и другое')</td>\n",
       "      <td>579</td>\n",
       "      <td>46</td>\n",
       "      <td>0</td>\n",
       "      <td>0</td>\n",
       "      <td>2</td>\n",
       "      <td>4952</td>\n",
       "      <td>4952</td>\n",
       "      <td>4952</td>\n",
       "      <td>93</td>\n",
       "      <td>46</td>\n",
       "      <td>0</td>\n",
       "      <td>0</td>\n",
       "    </tr>\n",
       "    <tr>\n",
       "      <th>659640</th>\n",
       "      <td>1586517765142996502</td>\n",
       "      <td>('Alexander Digenova ', 'Рубашки')</td>\n",
       "      <td>579</td>\n",
       "      <td>46</td>\n",
       "      <td>0</td>\n",
       "      <td>0</td>\n",
       "      <td>2</td>\n",
       "      <td>-23536</td>\n",
       "      <td>-23536</td>\n",
       "      <td>-23536</td>\n",
       "      <td>20</td>\n",
       "      <td>10</td>\n",
       "      <td>0</td>\n",
       "      <td>0</td>\n",
       "    </tr>\n",
       "    <tr>\n",
       "      <th>12045600</th>\n",
       "      <td>1586517765142996502</td>\n",
       "      <td>('Saint Laurent Paris', 'Рубашки')</td>\n",
       "      <td>579</td>\n",
       "      <td>46</td>\n",
       "      <td>0</td>\n",
       "      <td>0</td>\n",
       "      <td>13</td>\n",
       "      <td>28109</td>\n",
       "      <td>2000</td>\n",
       "      <td>-15536</td>\n",
       "      <td>106</td>\n",
       "      <td>8</td>\n",
       "      <td>0</td>\n",
       "      <td>0</td>\n",
       "    </tr>\n",
       "    <tr>\n",
       "      <th>...</th>\n",
       "      <td>...</td>\n",
       "      <td>...</td>\n",
       "      <td>...</td>\n",
       "      <td>...</td>\n",
       "      <td>...</td>\n",
       "      <td>...</td>\n",
       "      <td>...</td>\n",
       "      <td>...</td>\n",
       "      <td>...</td>\n",
       "      <td>...</td>\n",
       "      <td>...</td>\n",
       "      <td>...</td>\n",
       "      <td>...</td>\n",
       "      <td>...</td>\n",
       "    </tr>\n",
       "    <tr>\n",
       "      <th>3384239</th>\n",
       "      <td>16488470901025446973</td>\n",
       "      <td>('Comme Des Garcons Junya Watanabe', 'Деним')</td>\n",
       "      <td>0</td>\n",
       "      <td>0</td>\n",
       "      <td>0</td>\n",
       "      <td>0</td>\n",
       "      <td>2</td>\n",
       "      <td>-22536</td>\n",
       "      <td>-24536</td>\n",
       "      <td>-20536</td>\n",
       "      <td>22</td>\n",
       "      <td>11</td>\n",
       "      <td>0</td>\n",
       "      <td>0</td>\n",
       "    </tr>\n",
       "    <tr>\n",
       "      <th>11644079</th>\n",
       "      <td>16488470901025446973</td>\n",
       "      <td>('Rick Owens Drkshdw', 'Штаны и брюки')</td>\n",
       "      <td>0</td>\n",
       "      <td>0</td>\n",
       "      <td>0</td>\n",
       "      <td>0</td>\n",
       "      <td>7</td>\n",
       "      <td>-19536</td>\n",
       "      <td>21000</td>\n",
       "      <td>3464</td>\n",
       "      <td>103</td>\n",
       "      <td>14</td>\n",
       "      <td>0</td>\n",
       "      <td>0</td>\n",
       "    </tr>\n",
       "    <tr>\n",
       "      <th>3412919</th>\n",
       "      <td>16488470901025446973</td>\n",
       "      <td>('Comme Des Garcons Junya Watanabe', 'Куртки и...</td>\n",
       "      <td>0</td>\n",
       "      <td>0</td>\n",
       "      <td>0</td>\n",
       "      <td>0</td>\n",
       "      <td>2</td>\n",
       "      <td>-11536</td>\n",
       "      <td>-27536</td>\n",
       "      <td>4464</td>\n",
       "      <td>13</td>\n",
       "      <td>6</td>\n",
       "      <td>0</td>\n",
       "      <td>0</td>\n",
       "    </tr>\n",
       "    <tr>\n",
       "      <th>3298199</th>\n",
       "      <td>16488470901025446973</td>\n",
       "      <td>('Comme Des Garcons Homme Plus', 'Куртки и пух...</td>\n",
       "      <td>0</td>\n",
       "      <td>0</td>\n",
       "      <td>0</td>\n",
       "      <td>0</td>\n",
       "      <td>5</td>\n",
       "      <td>-26536</td>\n",
       "      <td>-32536</td>\n",
       "      <td>-14536</td>\n",
       "      <td>183</td>\n",
       "      <td>36</td>\n",
       "      <td>0</td>\n",
       "      <td>0</td>\n",
       "    </tr>\n",
       "    <tr>\n",
       "      <th>15056999</th>\n",
       "      <td>16488470901025446973</td>\n",
       "      <td>('ВЛАД ВЫСОЦКИЙ', 'Украшения и другое')</td>\n",
       "      <td>0</td>\n",
       "      <td>0</td>\n",
       "      <td>0</td>\n",
       "      <td>0</td>\n",
       "      <td>3</td>\n",
       "      <td>15000</td>\n",
       "      <td>15000</td>\n",
       "      <td>15000</td>\n",
       "      <td>440</td>\n",
       "      <td>146</td>\n",
       "      <td>0</td>\n",
       "      <td>0</td>\n",
       "    </tr>\n",
       "  </tbody>\n",
       "</table>\n",
       "<p>15056952 rows × 14 columns</p>\n",
       "</div>"
      ],
      "text/plain": [
       "                  ym_client_id  \\\n",
       "9148920    1586517765142996502   \n",
       "5908080    1586517765142996502   \n",
       "14397360   1586517765142996502   \n",
       "659640     1586517765142996502   \n",
       "12045600   1586517765142996502   \n",
       "...                        ...   \n",
       "3384239   16488470901025446973   \n",
       "11644079  16488470901025446973   \n",
       "3412919   16488470901025446973   \n",
       "3298199   16488470901025446973   \n",
       "15056999  16488470901025446973   \n",
       "\n",
       "                                                brand_categ  views  \\\n",
       "9148920                          ('Number (N)ine', 'Деним')    579   \n",
       "5908080                                  ('Gucci', 'Туфли')    579   \n",
       "14397360                    ('YOSYA', 'Украшения и другое')    579   \n",
       "659640                   ('Alexander Digenova ', 'Рубашки')    579   \n",
       "12045600                 ('Saint Laurent Paris', 'Рубашки')    579   \n",
       "...                                                     ...    ...   \n",
       "3384239       ('Comme Des Garcons Junya Watanabe', 'Деним')      0   \n",
       "11644079            ('Rick Owens Drkshdw', 'Штаны и брюки')      0   \n",
       "3412919   ('Comme Des Garcons Junya Watanabe', 'Куртки и...      0   \n",
       "3298199   ('Comme Des Garcons Homme Plus', 'Куртки и пух...      0   \n",
       "15056999            ('ВЛАД ВЫСОЦКИЙ', 'Украшения и другое')      0   \n",
       "\n",
       "          products_quan  carts_quan  wish_quan  id count  price_mean  \\\n",
       "9148920              46           0          0         2       12000   \n",
       "5908080              46           0          0         2       30000   \n",
       "14397360             46           0          0         2        4952   \n",
       "659640               46           0          0         2      -23536   \n",
       "12045600             46           0          0        13       28109   \n",
       "...                 ...         ...        ...       ...         ...   \n",
       "3384239               0           0          0         2      -22536   \n",
       "11644079              0           0          0         7      -19536   \n",
       "3412919               0           0          0         2      -11536   \n",
       "3298199               0           0          0         5      -26536   \n",
       "15056999              0           0          0         3       15000   \n",
       "\n",
       "          price_min  price_max  total_views  mean_views  heat_count  target  \n",
       "9148920       12000      12000           66          33           0       0  \n",
       "5908080       28000      32000           73          36           0       0  \n",
       "14397360       4952       4952           93          46           0       0  \n",
       "659640       -23536     -23536           20          10           0       0  \n",
       "12045600       2000     -15536          106           8           0       0  \n",
       "...             ...        ...          ...         ...         ...     ...  \n",
       "3384239      -24536     -20536           22          11           0       0  \n",
       "11644079      21000       3464          103          14           0       0  \n",
       "3412919      -27536       4464           13           6           0       0  \n",
       "3298199      -32536     -14536          183          36           0       0  \n",
       "15056999      15000      15000          440         146           0       0  \n",
       "\n",
       "[15056952 rows x 14 columns]"
      ]
     },
     "execution_count": 23,
     "metadata": {},
     "output_type": "execute_result"
    }
   ],
   "source": [
    "gb_full_old.rename(columns={'Цена шоурум mean':'price_mean','Цена шоурум min':'price_min','Цена шоурум max':'price_max'}).sort_values('ym_client_id').iloc[48:,:].drop(columns = ['cart_counter','wishlist_counter'])"
   ]
  },
  {
   "cell_type": "code",
   "execution_count": 97,
   "id": "becb3079",
   "metadata": {
    "pycharm": {
     "name": "#%%\n"
    }
   },
   "outputs": [
    {
     "data": {
      "text/plain": [
       "ym_client_id\n",
       "1586517765142996502     611\n",
       "1586524664521978322     611\n",
       "1586839436824718143     611\n",
       "1586861088574635654     611\n",
       "1586877094630823534     611\n",
       "                       ... \n",
       "166138258451469279      611\n",
       "1661382757156578950     611\n",
       "16613833671019558421    611\n",
       "1661430069979891508     611\n",
       "1661432219512902252     611\n",
       "Name: brand_categ, Length: 51665, dtype: int64"
      ]
     },
     "execution_count": 97,
     "metadata": {},
     "output_type": "execute_result"
    }
   ],
   "source": [
    "gb_full.groupby('ym_client_id')['brand_categ'].count()"
   ]
  },
  {
   "cell_type": "markdown",
   "id": "b9c380d9",
   "metadata": {
    "pycharm": {
     "name": "#%% md\n"
    }
   },
   "source": [
    "### делаем трейн-тест датасеты"
   ]
  },
  {
   "cell_type": "code",
   "execution_count": 101,
   "id": "86434e42",
   "metadata": {
    "pycharm": {
     "name": "#%%\n"
    }
   },
   "outputs": [],
   "source": [
    "# gb_test = gb_full.loc[gb_full.ym_client_id.isin(changed_ids)]\n",
    "gb_test = gb_full.loc[gb_full.ym_client_id.isin(changed_ids)]"
   ]
  },
  {
   "cell_type": "code",
   "execution_count": 102,
   "id": "22c2090d",
   "metadata": {
    "pycharm": {
     "name": "#%%\n"
    }
   },
   "outputs": [],
   "source": [
    "gb_test_old = gb_full_old.loc[\n",
    "    gb_df_old.ym_client_id.isin(changed_ids)].loc[:,\n",
    "                                                  ['ym_client_id','brand_categ','heat_count','cart_counter','wishlist_counter']]"
   ]
  },
  {
   "cell_type": "code",
   "execution_count": 104,
   "id": "90c7ebe3",
   "metadata": {
    "pycharm": {
     "name": "#%%\n"
    }
   },
   "outputs": [],
   "source": [
    "gb_test = gb_test.merge(gb_test_old, how = 'left', on = ['ym_client_id','brand_categ'], suffixes=('','_y')).fillna(0)\n",
    "gb_test.loc[:,'full_target'] = gb_test.cart_counter + gb_test.wishlist_counter + gb_test.heat_count - (gb_test.cart_counter_y + gb_test.wishlist_counter_y + gb_test.heat_count_y)\n"
   ]
  },
  {
   "cell_type": "code",
   "execution_count": 105,
   "id": "cdef641f",
   "metadata": {
    "pycharm": {
     "name": "#%%\n"
    }
   },
   "outputs": [],
   "source": [
    "gb_test.drop(columns=['heat_count_y','cart_counter_y','wishlist_counter_y'], inplace=True)"
   ]
  },
  {
   "cell_type": "code",
   "execution_count": 106,
   "id": "b011d856",
   "metadata": {
    "pycharm": {
     "name": "#%%\n"
    }
   },
   "outputs": [],
   "source": [
    "gb_test.ym_client_id = gb_test.ym_client_id.astype('category')\n",
    "gb_test.brand_categ = gb_test.brand_categ.astype('category')"
   ]
  },
  {
   "cell_type": "code",
   "execution_count": 107,
   "id": "7262151f",
   "metadata": {
    "pycharm": {
     "name": "#%%\n"
    }
   },
   "outputs": [
    {
     "data": {
      "text/plain": [
       "target           783.0\n",
       "full_target    20930.0\n",
       "dtype: float64"
      ]
     },
     "execution_count": 107,
     "metadata": {},
     "output_type": "execute_result"
    }
   ],
   "source": [
    "gb_test[['target','full_target']].sum()"
   ]
  },
  {
   "cell_type": "code",
   "execution_count": null,
   "id": "94511123",
   "metadata": {
    "pycharm": {
     "name": "#%%\n"
    }
   },
   "outputs": [],
   "source": []
  },
  {
   "cell_type": "code",
   "execution_count": 33,
   "id": "e760d618",
   "metadata": {
    "pycharm": {
     "name": "#%%\n"
    }
   },
   "outputs": [
    {
     "ename": "NameError",
     "evalue": "name 'res' is not defined",
     "output_type": "error",
     "traceback": [
      "\u001B[0;31m---------------------------------------------------------------------------\u001B[0m",
      "\u001B[0;31mNameError\u001B[0m                                 Traceback (most recent call last)",
      "\u001B[0;32m/var/folders/k_/q2nqvc5s4b9g7bf4ljty8wd00000gn/T/ipykernel_85765/4226511673.py\u001B[0m in \u001B[0;36m<module>\u001B[0;34m\u001B[0m\n\u001B[0;32m----> 1\u001B[0;31m \u001B[0mres\u001B[0m\u001B[0;34m.\u001B[0m\u001B[0mtarget\u001B[0m\u001B[0;34m.\u001B[0m\u001B[0mvalue_counts\u001B[0m\u001B[0;34m(\u001B[0m\u001B[0;36m1\u001B[0m\u001B[0;34m)\u001B[0m\u001B[0;34m*\u001B[0m\u001B[0;36m100\u001B[0m\u001B[0;34m\u001B[0m\u001B[0;34m\u001B[0m\u001B[0m\n\u001B[0m",
      "\u001B[0;31mNameError\u001B[0m: name 'res' is not defined"
     ]
    }
   ],
   "source": [
    "res.target.value_counts(1)*100"
   ]
  },
  {
   "cell_type": "code",
   "execution_count": null,
   "id": "fa7aad01",
   "metadata": {
    "pycharm": {
     "name": "#%%\n"
    }
   },
   "outputs": [],
   "source": [
    "interactions = coo_matrix(res.pivot(index = 'ym_client_id', columns = 'brand_categ', values='value').fillna(0))"
   ]
  },
  {
   "cell_type": "code",
   "execution_count": null,
   "id": "ffd7fcd6",
   "metadata": {
    "pycharm": {
     "name": "#%%\n"
    }
   },
   "outputs": [],
   "source": [
    "prep_user_features = res.loc[:,[\n",
    "    'ym_client_id',\n",
    "    'views',\n",
    "    'products_quan',\n",
    "    'carts_quan',\n",
    "    'wish_quan'\n",
    "]].drop_duplicates('ym_client_id').set_index('ym_client_id')\n",
    "user_features = csr_matrix(prep_user_features)"
   ]
  },
  {
   "cell_type": "code",
   "execution_count": null,
   "id": "d05e4f9d",
   "metadata": {
    "pycharm": {
     "name": "#%%\n"
    }
   },
   "outputs": [],
   "source": [
    "prep_item_features = res.loc[:,[\n",
    "    'brand_categ',\n",
    "    'id count',\n",
    "    'Цена шоурум mean',\n",
    "    'Цена шоурум min',\n",
    "    'Цена шоурум max',\n",
    "    'total_views',\n",
    "    'mean_views'\n",
    "]].drop_duplicates('brand_categ').set_index('brand_categ')\n",
    "item_features = csr_matrix(prep_item_features)"
   ]
  },
  {
   "cell_type": "code",
   "execution_count": null,
   "id": "f4f5eda5",
   "metadata": {
    "pycharm": {
     "name": "#%%\n"
    }
   },
   "outputs": [],
   "source": [
    "item_features"
   ]
  },
  {
   "cell_type": "code",
   "execution_count": null,
   "id": "9e1902a4",
   "metadata": {
    "pycharm": {
     "name": "#%%\n"
    }
   },
   "outputs": [],
   "source": [
    "lightfm_model = LightFM()\n",
    "lightfm_model.fit(interactions=interactions)\n",
    "#                   , user_features=user_features, item_features=item_features, verbose=True)"
   ]
  },
  {
   "cell_type": "code",
   "execution_count": null,
   "id": "bda859f1",
   "metadata": {
    "pycharm": {
     "name": "#%%\n"
    }
   },
   "outputs": [],
   "source": [
    "lightfm_model.predict(1,[1,2,3,4,5])"
   ]
  },
  {
   "cell_type": "code",
   "execution_count": null,
   "id": "fb12bc91",
   "metadata": {
    "pycharm": {
     "name": "#%%\n"
    }
   },
   "outputs": [],
   "source": [
    "interactions"
   ]
  },
  {
   "cell_type": "code",
   "execution_count": null,
   "id": "5c174f11",
   "metadata": {
    "pycharm": {
     "name": "#%%\n"
    }
   },
   "outputs": [],
   "source": [
    "pd.Series(precision_at_k(lightfm_model, \n",
    "               test_interactions=interactions, k=10)), pd.Series(recall_at_k(lightfm_model, \n",
    "                                                                  test_interactions=interactions, k =10))"
   ]
  },
  {
   "cell_type": "code",
   "execution_count": null,
   "id": "81b7f96f",
   "metadata": {
    "pycharm": {
     "name": "#%%\n"
    }
   },
   "outputs": [],
   "source": []
  },
  {
   "cell_type": "code",
   "execution_count": null,
   "id": "e41c3680",
   "metadata": {
    "pycharm": {
     "name": "#%%\n"
    }
   },
   "outputs": [],
   "source": [
    "# сделать таргет например, добавление в корзину, юзер-айтем фичи - остальное\n",
    "# лайт гбм с разбиением по времени на трейн тест (большой гэп) с метриками бинарной и сортировочной\n",
    "# лайт фм чек мтс + оценочку "
   ]
  },
  {
   "cell_type": "code",
   "execution_count": null,
   "id": "05031d0e",
   "metadata": {
    "pycharm": {
     "name": "#%%\n"
    }
   },
   "outputs": [],
   "source": [
    "# лайтгбм замерить метрики на месячной давности (пресижн эт кей)"
   ]
  },
  {
   "cell_type": "markdown",
   "id": "7ebae2f4",
   "metadata": {
    "pycharm": {
     "name": "#%% md\n"
    }
   },
   "source": [
    "### лайтгбм"
   ]
  },
  {
   "cell_type": "code",
   "execution_count": 109,
   "id": "ab28b496",
   "metadata": {
    "pycharm": {
     "name": "#%%\n"
    }
   },
   "outputs": [],
   "source": [
    "from sklearn.model_selection import train_test_split\n",
    "from sklearn.ensemble import GradientBoostingClassifier\n",
    "from sklearn.metrics import roc_auc_score, accuracy_score, precision_score, recall_score, ndcg_score\n",
    "from sklearn.model_selection import StratifiedKFold"
   ]
  },
  {
   "cell_type": "code",
   "execution_count": 110,
   "id": "9eb77319",
   "metadata": {
    "pycharm": {
     "name": "#%%\n"
    }
   },
   "outputs": [],
   "source": [
    "# X_train, X_test, y_train, y_test = train_test_split(res.drop(columns=['target',\n",
    "#                                                                       'cart_counter',\n",
    "#                                                                       'wishlist_counter',\n",
    "#                                                                       'value']), res.target,\n",
    "#                                                     stratify=res.target, \n",
    "#                                                     test_size=0.25)"
   ]
  },
  {
   "cell_type": "code",
   "execution_count": 111,
   "id": "fe17fefb",
   "metadata": {
    "pycharm": {
     "name": "#%%\n"
    }
   },
   "outputs": [],
   "source": [
    "lgbm_model = lightgbm.LGBMClassifier(boosting_type='gbdt',\n",
    "                        learning_rate=0.03,\n",
    "                        n_estimators= 5000,\n",
    "                        categorical_feature=['ym_client_id','brand_categ'],\n",
    "                        n_jobs= -1)\n",
    "# pred_test, oof_df, metric_OOF = cv_and_predict(\n",
    "#     df_train=X_train, \n",
    "#     df_test=X_test,\n",
    "#     train_y=y_train, \n",
    "#     model_kf= lgbm_model,\n",
    "#     model_type='lgbm')"
   ]
  },
  {
   "cell_type": "code",
   "execution_count": 112,
   "id": "82775489",
   "metadata": {
    "pycharm": {
     "name": "#%%\n"
    }
   },
   "outputs": [],
   "source": [
    "X_test, y_test = gb_test.drop(columns=['target',\n",
    "                                     'cart_counter',\n",
    "                                     'wishlist_counter',\n",
    "                                     'full_target'\n",
    "                                     ]), gb_test.target"
   ]
  },
  {
   "cell_type": "code",
   "execution_count": 113,
   "id": "21826ff1",
   "metadata": {
    "pycharm": {
     "name": "#%%\n"
    }
   },
   "outputs": [
    {
     "data": {
      "text/plain": [
       "611"
      ]
     },
     "execution_count": 113,
     "metadata": {},
     "output_type": "execute_result"
    }
   ],
   "source": [
    "gb_full.brand_categ.nunique()"
   ]
  },
  {
   "cell_type": "code",
   "execution_count": 114,
   "id": "ce81d508",
   "metadata": {
    "pycharm": {
     "name": "#%%\n"
    }
   },
   "outputs": [
    {
     "data": {
      "text/html": [
       "<div>\n",
       "<style scoped>\n",
       "    .dataframe tbody tr th:only-of-type {\n",
       "        vertical-align: middle;\n",
       "    }\n",
       "\n",
       "    .dataframe tbody tr th {\n",
       "        vertical-align: top;\n",
       "    }\n",
       "\n",
       "    .dataframe thead th {\n",
       "        text-align: right;\n",
       "    }\n",
       "</style>\n",
       "<table border=\"1\" class=\"dataframe\">\n",
       "  <thead>\n",
       "    <tr style=\"text-align: right;\">\n",
       "      <th></th>\n",
       "      <th>ym_client_id</th>\n",
       "      <th>brand_categ</th>\n",
       "      <th>views</th>\n",
       "      <th>products_quan</th>\n",
       "      <th>carts_quan</th>\n",
       "      <th>wish_quan</th>\n",
       "      <th>id count</th>\n",
       "      <th>Цена шоурум mean</th>\n",
       "      <th>Цена шоурум min</th>\n",
       "      <th>Цена шоурум max</th>\n",
       "      <th>total_views</th>\n",
       "      <th>mean_views</th>\n",
       "      <th>heat_count</th>\n",
       "    </tr>\n",
       "  </thead>\n",
       "  <tbody>\n",
       "    <tr>\n",
       "      <th>0</th>\n",
       "      <td>1588086803767309648</td>\n",
       "      <td>('1017 ALYX 9SM', 'Куртки и пуховики')</td>\n",
       "      <td>28</td>\n",
       "      <td>13</td>\n",
       "      <td>0</td>\n",
       "      <td>0</td>\n",
       "      <td>2</td>\n",
       "      <td>2964</td>\n",
       "      <td>32000</td>\n",
       "      <td>-26072</td>\n",
       "      <td>41</td>\n",
       "      <td>20</td>\n",
       "      <td>0</td>\n",
       "    </tr>\n",
       "    <tr>\n",
       "      <th>1</th>\n",
       "      <td>1589124488521527290</td>\n",
       "      <td>('1017 ALYX 9SM', 'Куртки и пуховики')</td>\n",
       "      <td>95</td>\n",
       "      <td>54</td>\n",
       "      <td>0</td>\n",
       "      <td>0</td>\n",
       "      <td>2</td>\n",
       "      <td>2964</td>\n",
       "      <td>32000</td>\n",
       "      <td>-26072</td>\n",
       "      <td>41</td>\n",
       "      <td>20</td>\n",
       "      <td>0</td>\n",
       "    </tr>\n",
       "    <tr>\n",
       "      <th>2</th>\n",
       "      <td>1591170581967446730</td>\n",
       "      <td>('1017 ALYX 9SM', 'Куртки и пуховики')</td>\n",
       "      <td>4</td>\n",
       "      <td>1</td>\n",
       "      <td>0</td>\n",
       "      <td>0</td>\n",
       "      <td>2</td>\n",
       "      <td>2964</td>\n",
       "      <td>32000</td>\n",
       "      <td>-26072</td>\n",
       "      <td>41</td>\n",
       "      <td>20</td>\n",
       "      <td>0</td>\n",
       "    </tr>\n",
       "    <tr>\n",
       "      <th>3</th>\n",
       "      <td>1591456613331007816</td>\n",
       "      <td>('1017 ALYX 9SM', 'Куртки и пуховики')</td>\n",
       "      <td>6</td>\n",
       "      <td>2</td>\n",
       "      <td>0</td>\n",
       "      <td>0</td>\n",
       "      <td>2</td>\n",
       "      <td>2964</td>\n",
       "      <td>32000</td>\n",
       "      <td>-26072</td>\n",
       "      <td>41</td>\n",
       "      <td>20</td>\n",
       "      <td>0</td>\n",
       "    </tr>\n",
       "    <tr>\n",
       "      <th>4</th>\n",
       "      <td>1591807338317190145</td>\n",
       "      <td>('1017 ALYX 9SM', 'Куртки и пуховики')</td>\n",
       "      <td>203</td>\n",
       "      <td>67</td>\n",
       "      <td>0</td>\n",
       "      <td>0</td>\n",
       "      <td>2</td>\n",
       "      <td>2964</td>\n",
       "      <td>32000</td>\n",
       "      <td>-26072</td>\n",
       "      <td>41</td>\n",
       "      <td>20</td>\n",
       "      <td>0</td>\n",
       "    </tr>\n",
       "    <tr>\n",
       "      <th>...</th>\n",
       "      <td>...</td>\n",
       "      <td>...</td>\n",
       "      <td>...</td>\n",
       "      <td>...</td>\n",
       "      <td>...</td>\n",
       "      <td>...</td>\n",
       "      <td>...</td>\n",
       "      <td>...</td>\n",
       "      <td>...</td>\n",
       "      <td>...</td>\n",
       "      <td>...</td>\n",
       "      <td>...</td>\n",
       "      <td>...</td>\n",
       "    </tr>\n",
       "    <tr>\n",
       "      <th>3857849</th>\n",
       "      <td>166138258451469279</td>\n",
       "      <td>('ВЛАД ВЫСОЦКИЙ', 'Украшения и другое')</td>\n",
       "      <td>1</td>\n",
       "      <td>1</td>\n",
       "      <td>0</td>\n",
       "      <td>0</td>\n",
       "      <td>3</td>\n",
       "      <td>15000</td>\n",
       "      <td>15000</td>\n",
       "      <td>15000</td>\n",
       "      <td>483</td>\n",
       "      <td>161</td>\n",
       "      <td>0</td>\n",
       "    </tr>\n",
       "    <tr>\n",
       "      <th>3857850</th>\n",
       "      <td>1661382757156578950</td>\n",
       "      <td>('ВЛАД ВЫСОЦКИЙ', 'Украшения и другое')</td>\n",
       "      <td>1</td>\n",
       "      <td>1</td>\n",
       "      <td>0</td>\n",
       "      <td>0</td>\n",
       "      <td>3</td>\n",
       "      <td>15000</td>\n",
       "      <td>15000</td>\n",
       "      <td>15000</td>\n",
       "      <td>483</td>\n",
       "      <td>161</td>\n",
       "      <td>0</td>\n",
       "    </tr>\n",
       "    <tr>\n",
       "      <th>3857851</th>\n",
       "      <td>16613833671019558421</td>\n",
       "      <td>('ВЛАД ВЫСОЦКИЙ', 'Украшения и другое')</td>\n",
       "      <td>1</td>\n",
       "      <td>1</td>\n",
       "      <td>0</td>\n",
       "      <td>0</td>\n",
       "      <td>3</td>\n",
       "      <td>15000</td>\n",
       "      <td>15000</td>\n",
       "      <td>15000</td>\n",
       "      <td>483</td>\n",
       "      <td>161</td>\n",
       "      <td>0</td>\n",
       "    </tr>\n",
       "    <tr>\n",
       "      <th>3857852</th>\n",
       "      <td>1661430069979891508</td>\n",
       "      <td>('ВЛАД ВЫСОЦКИЙ', 'Украшения и другое')</td>\n",
       "      <td>0</td>\n",
       "      <td>0</td>\n",
       "      <td>0</td>\n",
       "      <td>0</td>\n",
       "      <td>3</td>\n",
       "      <td>15000</td>\n",
       "      <td>15000</td>\n",
       "      <td>15000</td>\n",
       "      <td>483</td>\n",
       "      <td>161</td>\n",
       "      <td>0</td>\n",
       "    </tr>\n",
       "    <tr>\n",
       "      <th>3857853</th>\n",
       "      <td>1661432219512902252</td>\n",
       "      <td>('ВЛАД ВЫСОЦКИЙ', 'Украшения и другое')</td>\n",
       "      <td>0</td>\n",
       "      <td>0</td>\n",
       "      <td>0</td>\n",
       "      <td>0</td>\n",
       "      <td>3</td>\n",
       "      <td>15000</td>\n",
       "      <td>15000</td>\n",
       "      <td>15000</td>\n",
       "      <td>483</td>\n",
       "      <td>161</td>\n",
       "      <td>0</td>\n",
       "    </tr>\n",
       "  </tbody>\n",
       "</table>\n",
       "<p>3857854 rows × 13 columns</p>\n",
       "</div>"
      ],
      "text/plain": [
       "                 ym_client_id                              brand_categ  views  \\\n",
       "0         1588086803767309648   ('1017 ALYX 9SM', 'Куртки и пуховики')     28   \n",
       "1         1589124488521527290   ('1017 ALYX 9SM', 'Куртки и пуховики')     95   \n",
       "2         1591170581967446730   ('1017 ALYX 9SM', 'Куртки и пуховики')      4   \n",
       "3         1591456613331007816   ('1017 ALYX 9SM', 'Куртки и пуховики')      6   \n",
       "4         1591807338317190145   ('1017 ALYX 9SM', 'Куртки и пуховики')    203   \n",
       "...                       ...                                      ...    ...   \n",
       "3857849    166138258451469279  ('ВЛАД ВЫСОЦКИЙ', 'Украшения и другое')      1   \n",
       "3857850   1661382757156578950  ('ВЛАД ВЫСОЦКИЙ', 'Украшения и другое')      1   \n",
       "3857851  16613833671019558421  ('ВЛАД ВЫСОЦКИЙ', 'Украшения и другое')      1   \n",
       "3857852   1661430069979891508  ('ВЛАД ВЫСОЦКИЙ', 'Украшения и другое')      0   \n",
       "3857853   1661432219512902252  ('ВЛАД ВЫСОЦКИЙ', 'Украшения и другое')      0   \n",
       "\n",
       "         products_quan  carts_quan  wish_quan  id count  Цена шоурум mean  \\\n",
       "0                   13           0          0         2              2964   \n",
       "1                   54           0          0         2              2964   \n",
       "2                    1           0          0         2              2964   \n",
       "3                    2           0          0         2              2964   \n",
       "4                   67           0          0         2              2964   \n",
       "...                ...         ...        ...       ...               ...   \n",
       "3857849              1           0          0         3             15000   \n",
       "3857850              1           0          0         3             15000   \n",
       "3857851              1           0          0         3             15000   \n",
       "3857852              0           0          0         3             15000   \n",
       "3857853              0           0          0         3             15000   \n",
       "\n",
       "         Цена шоурум min  Цена шоурум max  total_views  mean_views  heat_count  \n",
       "0                  32000           -26072           41          20           0  \n",
       "1                  32000           -26072           41          20           0  \n",
       "2                  32000           -26072           41          20           0  \n",
       "3                  32000           -26072           41          20           0  \n",
       "4                  32000           -26072           41          20           0  \n",
       "...                  ...              ...          ...         ...         ...  \n",
       "3857849            15000            15000          483         161           0  \n",
       "3857850            15000            15000          483         161           0  \n",
       "3857851            15000            15000          483         161           0  \n",
       "3857852            15000            15000          483         161           0  \n",
       "3857853            15000            15000          483         161           0  \n",
       "\n",
       "[3857854 rows x 13 columns]"
      ]
     },
     "execution_count": 114,
     "metadata": {},
     "output_type": "execute_result"
    }
   ],
   "source": [
    "X_test"
   ]
  },
  {
   "cell_type": "markdown",
   "source": [
    "### готовим трейн датасет (обучаем на сэмпле из старого датасета, тест на новом полном)"
   ],
   "metadata": {
    "collapsed": false,
    "pycharm": {
     "name": "#%% md\n"
    }
   }
  },
  {
   "cell_type": "code",
   "execution_count": 117,
   "id": "cf974d3c",
   "metadata": {
    "pycharm": {
     "name": "#%%\n"
    },
    "scrolled": false
   },
   "outputs": [
    {
     "name": "stderr",
     "output_type": "stream",
     "text": [
      "100%|██████████| 19/19 [3:38:38<00:00, 690.47s/it]  \n"
     ]
    }
   ],
   "source": [
    "metrics = {}\n",
    "\n",
    "for sample_size in tqdm(np.arange(10000, 200000, 10000)):\n",
    "    res = pd.concat([\n",
    "        gb_full_old.loc[gb_full_old.target==1], \n",
    "        gb_full_old.loc[gb_full_old.target==0].sample(\n",
    "            n=sample_size, \n",
    "            replace = False, \n",
    "            random_state = 42\n",
    "        )\n",
    "    ], axis = 0)\n",
    "\n",
    "    res.loc[:,'value'] = res.heat_count + res.cart_counter*10 + res.wishlist_counter*5\n",
    "\n",
    "    res.ym_client_id = res.ym_client_id.astype('category')\n",
    "\n",
    "    res.brand_categ = res.brand_categ.astype(\"category\")\n",
    "\n",
    "    X_train, y_train = res.drop(columns=['target',\n",
    "                                         'cart_counter',\n",
    "                                         'wishlist_counter',\n",
    "                                         'value']), res.target\n",
    "    lgbm_model = lightgbm.LGBMClassifier(boosting_type='gbdt',\n",
    "                            learning_rate=0.03,\n",
    "                            n_estimators= 5000,\n",
    "                            categorical_feature=['ym_client_id','brand_categ'],\n",
    "                            n_jobs= -1)\n",
    "    lgbm_model.fit(X_train, y_train)\n",
    "\n",
    "    preds_ = lgbm_model.predict_proba(X_test)\n",
    "\n",
    "    gb_test.loc[:,'predicted'] = preds_[:,1]\n",
    "\n",
    "    recommends = gb_test.pivot(index='ym_client_id', columns='brand_categ', values='predicted')\n",
    "\n",
    "    # изначально для сравнения с коллаборативной фильтрацией использовался full_target,\n",
    "    # который учитывает в качестве попаданий помимо корзин и вишлистов, еще и просмотры карточек товара\n",
    "    preferred = gb_test.pivot(index = 'ym_client_id', columns = 'brand_categ', values='full_target')\n",
    "\n",
    "\n",
    "    k = 10\n",
    "    precisions = []\n",
    "    recalls = []\n",
    "    ndcgs = []\n",
    "    for user in recommends.index:\n",
    "        predictions = recommends.loc[user]\n",
    "        true_values = preferred.loc[user]\n",
    "\n",
    "        compared = pd.DataFrame([predictions, true_values], index=['preds','true']).T\n",
    "        compared = compared.sort_values('preds', ascending = False)\n",
    "\n",
    "        precision = precision_score(compared.true.iloc[:k].map(lambda x: 1 if x > 0 else 0), \n",
    "                                    compared.preds.iloc[:k].map(lambda x: 1 if x > 0 else 0))\n",
    "        recall = recall_score(compared.true.iloc[:k].map(lambda x: 1 if x > 0 else 0), \n",
    "                              compared.preds.iloc[:k].map(lambda x: 1 if x > 0 else 0))/compared.true.map(lambda x: 1 if x > 0 else 0).sum()\n",
    "        ndcg = ndcg_score([compared.true.iloc[:k].to_list()], \n",
    "                              [compared.preds.iloc[:k].to_list()])\n",
    "        precisions.append(precision)\n",
    "        recalls.append(recall)\n",
    "        ndcgs.append(ndcg)\n",
    "#         print(user, precision, recall)\n",
    "    recalls = pd.Series(recalls).fillna(0)\n",
    "#     print(np.mean(precisions), recalls.mean())\n",
    "    metrics[sample_size] = [np.mean(precisions), np.mean(recalls), np.mean(ndcgs)]"
   ]
  },
  {
   "cell_type": "markdown",
   "source": [
    "### рисуем графики метрик в зависимости от размера выборки в качестве гиперпараметра"
   ],
   "metadata": {
    "collapsed": false,
    "pycharm": {
     "name": "#%% md\n"
    }
   }
  },
  {
   "cell_type": "code",
   "execution_count": 182,
   "outputs": [
    {
     "data": {
      "text/plain": "<matplotlib.lines.Line2D at 0x7f9ea9969430>"
     },
     "execution_count": 182,
     "metadata": {},
     "output_type": "execute_result"
    },
    {
     "data": {
      "text/plain": "<Figure size 432x432 with 1 Axes>",
      "image/png": "[encoded data removed]"
     },
     "metadata": {
      "needs_background": "light"
     },
     "output_type": "display_data"
    }
   ],
   "source": [
    "metrics_df = pd.DataFrame.from_dict(metrics)\n",
    "metrics_df.index = ['precision','recall','ndcg']\n",
    "metrics_df = metrics_df.T\n",
    "metrics_df.loc[:,'f_score@10'] = 2* (metrics_df.precision * metrics_df.recall) / (metrics_df.precision + metrics_df.recall)\n",
    "met_plottt = metrics_df.plot(figsize = (6,6))\n",
    "met_plottt.set_xlabel('размер выборки, млн наблюдений')\n",
    "met_plottt.set_ylabel('значения метрик')\n",
    "plt.axvline(metrics_df.recall.idxmax(), color = 'orange')\n",
    "plt.axvline(metrics_df.precision.idxmax(), color = 'blue')\n",
    "plt.axvline(metrics_df.ndcg.idxmax(), color = 'green')\n",
    "plt.axvline(metrics_df['f_score@10'].idxmax(), color = 'red')"
   ],
   "metadata": {
    "collapsed": false,
    "pycharm": {
     "name": "#%%\n"
    }
   }
  },
  {
   "cell_type": "code",
   "execution_count": null,
   "outputs": [],
   "source": [
    "metrics_df.to_csv('gradboost_metrics.csv')"
   ],
   "metadata": {
    "collapsed": false,
    "pycharm": {
     "name": "#%%\n"
    }
   }
  },
  {
   "cell_type": "markdown",
   "source": [
    "### обучаем модельку на оптимальном c точки зрения nDCG размере выборки"
   ],
   "metadata": {
    "collapsed": false,
    "pycharm": {
     "name": "#%% md\n"
    }
   }
  },
  {
   "cell_type": "code",
   "execution_count": null,
   "outputs": [],
   "source": [
    "res = pd.concat([\n",
    "        gb_full_old.loc[gb_full_old.target==1], \n",
    "        gb_full_old.loc[gb_full_old.target==0].sample(\n",
    "            n=metrics_df.ndcg.idxmax(),\n",
    "            replace = False, \n",
    "            random_state = 42\n",
    "        )\n",
    "    ], axis = 0)\n",
    "\n",
    "res.loc[:,'value'] = res.heat_count + res.cart_counter*10 + res.wishlist_counter*5\n",
    "\n",
    "res.ym_client_id = res.ym_client_id.astype('category')\n",
    "\n",
    "res.brand_categ = res.brand_categ.astype(\"category\")\n",
    "\n",
    "X_train, y_train = res.drop(columns=['target',\n",
    "                                     'cart_counter',\n",
    "                                     'wishlist_counter',\n",
    "                                     'value']), res.target\n",
    "lgbm_model = lightgbm.LGBMClassifier(boosting_type='gbdt',\n",
    "                        learning_rate=0.03,\n",
    "                        n_estimators= 5000,\n",
    "                        categorical_feature=['ym_client_id','brand_categ'],\n",
    "                        n_jobs= -1)\n",
    "lgbm_model.fit(X_train, y_train)"
   ],
   "metadata": {
    "collapsed": false,
    "pycharm": {
     "name": "#%%\n"
    }
   }
  },
  {
   "cell_type": "markdown",
   "source": [
    "### смотрим относительную важность фичей в модели"
   ],
   "metadata": {
    "collapsed": false,
    "pycharm": {
     "name": "#%% md\n"
    }
   }
  },
  {
   "cell_type": "code",
   "execution_count": 183,
   "outputs": [
    {
     "data": {
      "text/plain": "Text(0, 0.5, 'важность признаков')"
     },
     "execution_count": 183,
     "metadata": {},
     "output_type": "execute_result"
    },
    {
     "data": {
      "text/plain": "<Figure size 504x504 with 1 Axes>",
      "image/png": "[encoded data removed]"
     },
     "metadata": {
      "needs_background": "light"
     },
     "output_type": "display_data"
    }
   ],
   "source": [
    "importance_df = pd.DataFrame({\n",
    "        'feature': lgbm_model.feature_name_,\n",
    "        'importance': lgbm_model.feature_importances_,\n",
    "    }).sort_values('importance', ascending=False).replace({\n",
    "    'Цена_шоурум_mean':'price_mean',\n",
    "    'Цена_шоурум_max':'price_max',\n",
    "    'Цена_шоурум_min':'price_min'})\n",
    "importance_df.loc[:,'color'] = importance_df.feature.replace({'price_mean':'r','total_views':'r','views':'g','price_max':'r','price_min':'r','mean_views':'r','products_quan':'g','wish_quan':'g','id_count':'r','carts_quan':'g','heat_count':'g','ym_client_id':'g','brand_categ':'r'})\n",
    "importance_df.set_index('feature', inplace = True)\n",
    "importance_plot = importance_df.importance.plot(kind = 'bar', color = importance_df.color, figsize = (7,7))\n",
    "importance_plot.set_xlabel('признаки (зеленые - пользовательские)', fontsize = 16)\n",
    "importance_plot.set_ylabel('важность признаков', fontsize = 16)\n",
    "\n",
    "# .plot(kind = 'bar')"
   ],
   "metadata": {
    "collapsed": false,
    "pycharm": {
     "name": "#%%\n"
    }
   }
  },
  {
   "cell_type": "markdown",
   "source": [
    "### сохраняем модельку"
   ],
   "metadata": {
    "collapsed": false,
    "pycharm": {
     "name": "#%% md\n"
    }
   }
  },
  {
   "cell_type": "code",
   "execution_count": null,
   "outputs": [],
   "source": [
    "lgbm_model.booster_.save_model(path_to_repo + '/models/'+'lgb_model.txt')"
   ],
   "metadata": {
    "collapsed": false,
    "pycharm": {
     "name": "#%%\n"
    }
   }
  },
  {
   "cell_type": "markdown",
   "source": [
    "### подгружаем модельку"
   ],
   "metadata": {
    "collapsed": false,
    "pycharm": {
     "name": "#%% md\n"
    }
   }
  },
  {
   "cell_type": "code",
   "execution_count": 178,
   "outputs": [],
   "source": [
    "model = lightgbm.Booster(model_file=path_to_repo + '/models/'+'lgb_model.txt')"
   ],
   "metadata": {
    "collapsed": false,
    "pycharm": {
     "name": "#%%\n"
    }
   }
  },
  {
   "cell_type": "code",
   "execution_count": 180,
   "outputs": [
    {
     "data": {
      "text/plain": "array([3.65868744e-09, 5.52870828e-13, 1.35111618e-11, ...,\n       5.18413407e-10, 7.39837255e-09, 1.93481986e-09])"
     },
     "execution_count": 180,
     "metadata": {},
     "output_type": "execute_result"
    }
   ],
   "source": [
    "model.predict(X_test.sample(n = 100000))"
   ],
   "metadata": {
    "collapsed": false,
    "pycharm": {
     "name": "#%%\n"
    }
   }
  },
  {
   "cell_type": "code",
   "execution_count": null,
   "outputs": [],
   "source": [
    "# preds_ = model.predict(X_test)\n",
    "\n",
    "gb_test.loc[:,'predicted'] = preds_\n",
    "\n",
    "recommends = gb_test.pivot(index='ym_client_id', columns='brand_categ', values='predicted')\n",
    "\n",
    "preferred = gb_test.pivot(index = 'ym_client_id', columns = 'brand_categ', values='target')\n",
    "\n",
    "# user = '1586839436824718143'\n",
    "k = 10\n",
    "precisions = []\n",
    "recalls = []\n",
    "ndcgs = []\n",
    "for user in recommends.index:\n",
    "    predictions = recommends.loc[user]\n",
    "    true_values = preferred.loc[user]\n",
    "\n",
    "    compared = pd.DataFrame([predictions, true_values], index=['preds','true']).T\n",
    "    compared = compared.sort_values('preds', ascending = False)\n",
    "\n",
    "    precision = precision_score(compared.true.iloc[:k].map(lambda x: 1 if x > 0 else 0), \n",
    "                                compared.preds.iloc[:k].map(lambda x: 1 if x > 0 else 0))\n",
    "    recall = recall_score(compared.true.iloc[:k].map(lambda x: 1 if x > 0 else 0), \n",
    "                          compared.preds.iloc[:k].map(lambda x: 1 if x > 0 else 0))/compared.true.map(lambda x: 1 if x > 0 else 0).sum()\n",
    "    ndcg = ndcg_score([compared.true.iloc[:k].to_list()], \n",
    "                          [compared.preds.iloc[:k].to_list()])\n",
    "    precisions.append(precision)\n",
    "    recalls.append(recall)\n",
    "    ndcgs.append(ndcg)\n",
    "#         print(user, precision, recall)\n",
    "recalls = pd.Series(recalls).fillna(0)\n",
    "#     print(np.mean(precisions), recalls.mean())\n",
    "[np.mean(precisions), np.mean(recalls), np.mean(ndcgs)]"
   ],
   "metadata": {
    "collapsed": false,
    "pycharm": {
     "name": "#%%\n"
    }
   }
  }
 ],
 "metadata": {
  "kernelspec": {
   "display_name": "Python 3 (ipykernel)",
   "language": "python",
   "name": "python3"
  },
  "language_info": {
   "codemirror_mode": {
    "name": "ipython",
    "version": 3
   },
   "file_extension": ".py",
   "mimetype": "text/x-python",
   "name": "python",
   "nbconvert_exporter": "python",
   "pygments_lexer": "ipython3",
   "version": "3.9.7"
  }
 },
 "nbformat": 4,
 "nbformat_minor": 5
}