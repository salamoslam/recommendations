{
 "cells": [
  {
   "cell_type": "code",
   "execution_count": null,
   "outputs": [],
   "source": [
    "import warnings\n",
    "warnings.filterwarnings(\"ignore\")"
   ],
   "metadata": {
    "collapsed": false,
    "pycharm": {
     "name": "#%%\n"
    }
   }
  },
  {
   "cell_type": "code",
   "execution_count": null,
   "outputs": [],
   "source": [
    "import sys\n",
    "import lightgbm\n",
    "import pandas as pd\n",
    "import numpy as np\n",
    "sys.path.append('../src/data')\n",
    "# from get_users_info import *\n",
    "# from get_brand_category_info import *\n",
    "# from get_preference_matrix import *\n",
    "# from get_popular_items import *\n",
    "from tqdm import tqdm\n",
    "from pymongo import MongoClient\n",
    "import certifi\n",
    "from lightfm import LightFM\n",
    "from lightfm.datasets import fetch_movielens\n",
    "from lightfm.evaluation import precision_at_k, recall_at_k\n",
    "import os\n",
    "from pathlib import Path\n",
    "import datetime\n",
    "from scipy.sparse import csr_matrix, coo_matrix\n",
    "import lightgbm\n",
    "import plotly.express as px\n",
    "import matplotlib.pyplot as plt"
   ],
   "metadata": {
    "collapsed": false,
    "pycharm": {
     "name": "#%%\n"
    }
   }
  },
  {
   "cell_type": "code",
   "execution_count": null,
   "outputs": [],
   "source": [
    "sys.path.append('../src/collaborative_filtration')\n",
    "from get_train_test_matrices import *"
   ],
   "metadata": {
    "collapsed": false,
    "pycharm": {
     "name": "#%%\n"
    }
   }
  },
  {
   "cell_type": "code",
   "execution_count": null,
   "outputs": [],
   "source": [
    "pd.set_option('display.max_columns', 1000)\n",
    "# pd.set_option('display.max_rows', 1000)"
   ],
   "metadata": {
    "collapsed": false,
    "pycharm": {
     "name": "#%%\n"
    }
   }
  },
  {
   "cell_type": "code",
   "execution_count": null,
   "outputs": [],
   "source": [
    "import_path = str(Path(sys.path[0]).parent) + '/data/interim/'"
   ],
   "metadata": {
    "collapsed": false,
    "pycharm": {
     "name": "#%%\n"
    }
   }
  },
  {
   "cell_type": "code",
   "execution_count": null,
   "outputs": [],
   "source": [
    "user_item_old = pd.read_csv(import_path + 'user_group_info_old.csv').set_index('ym_client_id')\n",
    "user_item = pd.read_csv(import_path + 'user_group_info.csv').set_index('ym_client_id')"
   ],
   "metadata": {
    "collapsed": false,
    "pycharm": {
     "name": "#%%\n"
    }
   }
  },
  {
   "cell_type": "code",
   "execution_count": null,
   "outputs": [],
   "source": [
    "# смотрим заполненность ячеек матрицы юзер айтем\n",
    "(cut_user_item(user_item.T)>0).mean().mean()"
   ],
   "metadata": {
    "collapsed": false,
    "pycharm": {
     "name": "#%%\n"
    }
   }
  },
  {
   "cell_type": "markdown",
   "source": [
    "### подгружаем датасет со взаимодействиями"
   ],
   "metadata": {
    "collapsed": false,
    "pycharm": {
     "name": "#%% md\n"
    }
   }
  },
  {
   "cell_type": "code",
   "execution_count": null,
   "outputs": [],
   "source": [
    "# подрубаем старый датасет\n",
    "triple_old = pd.read_csv(import_path + 'user_group_melt_old.csv').iloc[:,1:]\n",
    "triple = pd.read_csv(import_path + 'user_group_melt.csv').iloc[:,1:]\n",
    "\n",
    "triple_old.ym_client_id = triple_old.ym_client_id.astype(str)\n",
    "triple.ym_client_id = triple.ym_client_id.astype(str)"
   ],
   "metadata": {
    "collapsed": false,
    "pycharm": {
     "name": "#%%\n"
    }
   }
  },
  {
   "cell_type": "markdown",
   "source": [
    "### подгружаем инфу по брендам-категориям"
   ],
   "metadata": {
    "collapsed": false,
    "pycharm": {
     "name": "#%% md\n"
    }
   }
  },
  {
   "cell_type": "code",
   "execution_count": null,
   "outputs": [],
   "source": [
    "brand_categ_old = pd.read_csv(import_path + 'brand_category_info_old.csv')\n",
    "brand_categ_info = pd.read_csv(import_path + 'brand_category_info.csv')\n",
    "\n",
    "brand_categ_info.set_index(['brand','Группа категорий'], inplace = True)\n",
    "brand_categ_old.set_index(['brand','Группа категорий'], inplace = True)\n",
    "\n",
    "\n",
    "brand_categ_info.loc[:,'brand_categ'] = np.array(brand_categ_info.index)\n",
    "brand_categ_info.brand_categ = brand_categ_info.brand_categ.astype(str)\n",
    "\n",
    "brand_categ_old.loc[:,'brand_categ'] = np.array(brand_categ_old.index)\n",
    "brand_categ_old.brand_categ = brand_categ_old.brand_categ.astype(str)"
   ],
   "metadata": {
    "collapsed": false,
    "pycharm": {
     "name": "#%%\n"
    }
   }
  },
  {
   "cell_type": "markdown",
   "source": [
    "### подгружаем инфу по юзерам"
   ],
   "metadata": {
    "collapsed": false,
    "pycharm": {
     "name": "#%% md\n"
    }
   }
  },
  {
   "cell_type": "code",
   "execution_count": null,
   "outputs": [],
   "source": [
    "users_info_old = pd.read_csv(import_path + 'users_info_old.csv').rename(columns={'Unnamed: 0':'ym_client_id'})\n",
    "users_info = pd.read_csv(import_path + 'users_info.csv').rename(columns={'Unnamed: 0':'ym_client_id'})\n",
    "\n",
    "users_info.ym_client_id = users_info.ym_client_id.astype(str)\n",
    "users_info_old.ym_client_id = users_info_old.ym_client_id.astype(str)"
   ],
   "metadata": {
    "collapsed": false,
    "pycharm": {
     "name": "#%%\n"
    }
   }
  },
  {
   "cell_type": "markdown",
   "source": [
    "### соединяем воедино все, сначала новый"
   ],
   "metadata": {
    "collapsed": false,
    "pycharm": {
     "name": "#%% md\n"
    }
   }
  },
  {
   "cell_type": "code",
   "execution_count": null,
   "outputs": [],
   "source": [
    "gb_df = user_item.reset_index().melt(id_vars='ym_client_id', var_name='brand_categ')\n",
    "\n",
    "gb_df.ym_client_id = gb_df.ym_client_id.astype(str)"
   ],
   "metadata": {
    "collapsed": false,
    "pycharm": {
     "name": "#%%\n"
    }
   }
  },
  {
   "cell_type": "code",
   "execution_count": null,
   "outputs": [],
   "source": [
    "gb_full = gb_df.merge(users_info, \n",
    "                       on='ym_client_id', \n",
    "                       how='left')\n",
    "gb_full = gb_full.merge(brand_categ_info, \n",
    "                        how='left',\n",
    "                        on='brand_categ')\n",
    "gb_full = gb_full.merge(triple, \n",
    "                        how = 'left', \n",
    "                        on = ['ym_client_id','brand_categ'])"
   ],
   "metadata": {
    "collapsed": false,
    "pycharm": {
     "name": "#%%\n"
    }
   }
  },
  {
   "cell_type": "code",
   "execution_count": null,
   "outputs": [],
   "source": [
    "cols = gb_full.select_dtypes(include=[np.float64]).columns\n",
    "gb_full = gb_full.fillna(0)\n",
    "gb_full[cols] = gb_full[cols].astype(np.int16)"
   ],
   "metadata": {
    "collapsed": false,
    "pycharm": {
     "name": "#%%\n"
    }
   }
  },
  {
   "cell_type": "code",
   "execution_count": null,
   "outputs": [],
   "source": [
    "gb_full.loc[:,'target'] = np.where(gb_full.cart_counter + gb_full.wishlist_counter > 0,1,0)"
   ],
   "metadata": {
    "collapsed": false,
    "pycharm": {
     "name": "#%%\n"
    }
   }
  },
  {
   "cell_type": "code",
   "execution_count": null,
   "outputs": [],
   "source": [
    "gb_full.drop(columns=['products','carts','wish','id_s list','view_times', 'value', 'sum'], inplace=True)"
   ],
   "metadata": {
    "collapsed": false,
    "pycharm": {
     "name": "#%%\n"
    }
   }
  },
  {
   "cell_type": "code",
   "execution_count": null,
   "outputs": [],
   "source": [
    "gb_full.to_csv(import_path+'grad_boost_new.csv')"
   ],
   "metadata": {
    "collapsed": false,
    "pycharm": {
     "name": "#%%\n"
    }
   }
  },
  {
   "cell_type": "markdown",
   "source": [
    "### теперь для тренировочного датасета"
   ],
   "metadata": {
    "collapsed": false,
    "pycharm": {
     "name": "#%% md\n"
    }
   }
  },
  {
   "cell_type": "code",
   "execution_count": null,
   "outputs": [],
   "source": [
    "gb_df_old = user_item_old.reset_index().melt(id_vars='ym_client_id', var_name='brand_categ')\n",
    "\n",
    "gb_df_old.ym_client_id = gb_df_old.ym_client_id.astype(str)"
   ],
   "metadata": {
    "collapsed": false,
    "pycharm": {
     "name": "#%%\n"
    }
   }
  },
  {
   "cell_type": "code",
   "execution_count": null,
   "outputs": [],
   "source": [
    "gb_full_old = gb_df_old.merge(users_info_old,\n",
    "                       on='ym_client_id',\n",
    "                       how='left').merge(brand_categ_old,\n",
    "                                         how='left',\n",
    "                                         on='brand_categ').merge(triple_old,\n",
    "                        how = 'left',\n",
    "                        on = ['ym_client_id','brand_categ'])"
   ],
   "metadata": {
    "collapsed": false,
    "pycharm": {
     "name": "#%%\n"
    }
   }
  },
  {
   "cell_type": "code",
   "execution_count": null,
   "outputs": [],
   "source": [
    "cols_old = gb_full_old.select_dtypes(include=[np.float64]).columns\n",
    "gb_full_old = gb_full_old.fillna(0)\n",
    "gb_full_old[cols] = gb_full_old[cols].astype(np.int16)"
   ],
   "metadata": {
    "collapsed": false,
    "pycharm": {
     "name": "#%%\n"
    }
   }
  },
  {
   "cell_type": "code",
   "execution_count": null,
   "outputs": [],
   "source": [
    "gb_full_old.loc[:,'target'] = np.where(gb_full_old.cart_counter + gb_full_old.wishlist_counter > 0,1,0)"
   ],
   "metadata": {
    "collapsed": false,
    "pycharm": {
     "name": "#%%\n"
    }
   }
  },
  {
   "cell_type": "code",
   "execution_count": null,
   "outputs": [],
   "source": [
    "gb_full_old.drop(columns=['products','carts','wish','id_s list','view_times', 'value', 'sum'], inplace=True)"
   ],
   "metadata": {
    "collapsed": false,
    "pycharm": {
     "name": "#%%\n"
    }
   }
  },
  {
   "cell_type": "code",
   "execution_count": null,
   "outputs": [],
   "source": [
    "gb_full_old.to_csv(import_path+'grad_boost_old.csv')"
   ],
   "metadata": {
    "collapsed": false,
    "pycharm": {
     "name": "#%%\n"
    }
   }
  },
  {
   "cell_type": "markdown",
   "source": [
    "### достаем индексы для сверки с коллаборативкой"
   ],
   "metadata": {
    "collapsed": false,
    "pycharm": {
     "name": "#%% md\n"
    }
   }
  },
  {
   "cell_type": "code",
   "execution_count": null,
   "outputs": [],
   "source": [
    "gb_full_gb = gb_full.groupby('ym_client_id').agg({'heat_count':sum, 'target':sum})"
   ],
   "metadata": {
    "collapsed": false,
    "pycharm": {
     "name": "#%%\n"
    }
   }
  },
  {
   "cell_type": "code",
   "execution_count": null,
   "outputs": [],
   "source": [
    "gb_full_old_gb = gb_full_old.groupby('ym_client_id').agg({'heat_count':sum, 'target':sum})"
   ],
   "metadata": {
    "collapsed": false,
    "pycharm": {
     "name": "#%%\n"
    }
   }
  },
  {
   "cell_type": "code",
   "execution_count": null,
   "outputs": [],
   "source": [
    "gb_changes = gb_full_gb.join(gb_full_old_gb, rsuffix='_old')"
   ],
   "metadata": {
    "collapsed": false,
    "pycharm": {
     "name": "#%%\n"
    }
   }
  },
  {
   "cell_type": "code",
   "execution_count": null,
   "outputs": [],
   "source": [
    "gb_changes.fillna(int(0),  inplace = True)"
   ],
   "metadata": {
    "collapsed": false,
    "pycharm": {
     "name": "#%%\n"
    }
   }
  },
  {
   "cell_type": "code",
   "execution_count": null,
   "outputs": [],
   "source": [
    "gb_changes.loc[:,'changed'] = gb_changes.heat_count+gb_changes.target - gb_changes.heat_count_old - gb_changes.target_old"
   ],
   "metadata": {
    "collapsed": false,
    "pycharm": {
     "name": "#%%\n"
    }
   }
  },
  {
   "cell_type": "code",
   "execution_count": null,
   "outputs": [],
   "source": [
    "gb_changes.loc[:,'changed_cart'] = gb_changes.target - gb_changes.target_old"
   ],
   "metadata": {
    "collapsed": false,
    "pycharm": {
     "name": "#%%\n"
    }
   }
  },
  {
   "cell_type": "code",
   "execution_count": null,
   "outputs": [],
   "source": [
    "changed_ids = gb_changes.loc[gb_changes.changed>0].index"
   ],
   "metadata": {
    "collapsed": false,
    "pycharm": {
     "name": "#%%\n"
    }
   }
  },
  {
   "cell_type": "code",
   "execution_count": null,
   "outputs": [],
   "source": [
    "changed_ids_cart = gb_changes.loc[gb_changes.changed_cart>0].index"
   ],
   "metadata": {
    "collapsed": false,
    "pycharm": {
     "name": "#%%\n"
    }
   }
  },
  {
   "cell_type": "markdown",
   "source": [
    "### докидываем данные из коллаборативки (нужно было только для диплома)"
   ],
   "metadata": {
    "collapsed": false,
    "pycharm": {
     "name": "#%% md\n"
    }
   }
  },
  {
   "cell_type": "code",
   "execution_count": null,
   "outputs": [],
   "source": [
    "# индексы для сверки с коллаборативкой\n",
    "user_item_diff = pd.read_csv(import_path+'user_item_diff.csv').rename(columns = {'Unnamed: 0':'ym_client_id'})"
   ],
   "metadata": {
    "collapsed": false,
    "pycharm": {
     "name": "#%%\n"
    }
   }
  },
  {
   "cell_type": "code",
   "execution_count": null,
   "outputs": [],
   "source": [
    "changed_ids = user_item_diff['ym_client_id'].astype(str)"
   ],
   "metadata": {
    "collapsed": false,
    "pycharm": {
     "name": "#%%\n"
    }
   }
  },
  {
   "cell_type": "code",
   "execution_count": null,
   "outputs": [],
   "source": [
    "gb_full_old.rename(columns={'Цена шоурум mean':'price_mean','Цена шоурум min':'price_min','Цена шоурум max':'price_max'}).sort_values('ym_client_id').iloc[48:,:].drop(columns = ['cart_counter','wishlist_counter'])"
   ],
   "metadata": {
    "collapsed": false,
    "pycharm": {
     "name": "#%%\n"
    }
   }
  },
  {
   "cell_type": "code",
   "execution_count": null,
   "outputs": [],
   "source": [
    "gb_full.groupby('ym_client_id')['brand_categ'].count()"
   ],
   "metadata": {
    "collapsed": false,
    "pycharm": {
     "name": "#%%\n"
    }
   }
  },
  {
   "cell_type": "markdown",
   "source": [
    "### делаем трейн-тест датасеты"
   ],
   "metadata": {
    "collapsed": false,
    "pycharm": {
     "name": "#%% md\n"
    }
   }
  },
  {
   "cell_type": "code",
   "execution_count": null,
   "outputs": [],
   "source": [
    "# gb_test = gb_full.loc[gb_full.ym_client_id.isin(changed_ids)]\n",
    "gb_test = gb_full.loc[gb_full.ym_client_id.isin(changed_ids)]"
   ],
   "metadata": {
    "collapsed": false,
    "pycharm": {
     "name": "#%%\n"
    }
   }
  },
  {
   "cell_type": "code",
   "execution_count": null,
   "outputs": [],
   "source": [
    "gb_test_old = gb_full_old.loc[\n",
    "    gb_df_old.ym_client_id.isin(changed_ids)].loc[:,\n",
    "                                                  ['ym_client_id','brand_categ','heat_count','cart_counter','wishlist_counter']]"
   ],
   "metadata": {
    "collapsed": false,
    "pycharm": {
     "name": "#%%\n"
    }
   }
  },
  {
   "cell_type": "code",
   "execution_count": null,
   "outputs": [],
   "source": [
    "gb_test = gb_test.merge(gb_test_old, how = 'left', on = ['ym_client_id','brand_categ'], suffixes=('','_y')).fillna(0)\n",
    "gb_test.loc[:,'full_target'] = gb_test.cart_counter + gb_test.wishlist_counter + gb_test.heat_count - (gb_test.cart_counter_y + gb_test.wishlist_counter_y + gb_test.heat_count_y)\n"
   ],
   "metadata": {
    "collapsed": false,
    "pycharm": {
     "name": "#%%\n"
    }
   }
  },
  {
   "cell_type": "code",
   "execution_count": null,
   "outputs": [],
   "source": [
    "gb_test.drop(columns=['heat_count_y','cart_counter_y','wishlist_counter_y'], inplace=True)"
   ],
   "metadata": {
    "collapsed": false,
    "pycharm": {
     "name": "#%%\n"
    }
   }
  },
  {
   "cell_type": "code",
   "execution_count": null,
   "outputs": [],
   "source": [
    "gb_test.ym_client_id = gb_test.ym_client_id.astype('category')\n",
    "gb_test.brand_categ = gb_test.brand_categ.astype('category')"
   ],
   "metadata": {
    "collapsed": false,
    "pycharm": {
     "name": "#%%\n"
    }
   }
  },
  {
   "cell_type": "code",
   "execution_count": null,
   "outputs": [],
   "source": [
    "gb_test[['target','full_target']].sum()"
   ],
   "metadata": {
    "collapsed": false,
    "pycharm": {
     "name": "#%%\n"
    }
   }
  },
  {
   "cell_type": "code",
   "execution_count": null,
   "outputs": [],
   "source": [],
   "metadata": {
    "collapsed": false,
    "pycharm": {
     "name": "#%%\n"
    }
   }
  },
  {
   "cell_type": "code",
   "execution_count": null,
   "outputs": [],
   "source": [
    "res.target.value_counts(1)*100"
   ],
   "metadata": {
    "collapsed": false,
    "pycharm": {
     "name": "#%%\n"
    }
   }
  },
  {
   "cell_type": "code",
   "execution_count": null,
   "outputs": [],
   "source": [
    "interactions = coo_matrix(res.pivot(index = 'ym_client_id', columns = 'brand_categ', values='value').fillna(0))"
   ],
   "metadata": {
    "collapsed": false,
    "pycharm": {
     "name": "#%%\n"
    }
   }
  },
  {
   "cell_type": "code",
   "execution_count": null,
   "outputs": [],
   "source": [
    "prep_user_features = res.loc[:,[\n",
    "    'ym_client_id',\n",
    "    'views',\n",
    "    'products_quan',\n",
    "    'carts_quan',\n",
    "    'wish_quan'\n",
    "]].drop_duplicates('ym_client_id').set_index('ym_client_id')\n",
    "user_features = csr_matrix(prep_user_features)"
   ],
   "metadata": {
    "collapsed": false,
    "pycharm": {
     "name": "#%%\n"
    }
   }
  },
  {
   "cell_type": "code",
   "execution_count": null,
   "outputs": [],
   "source": [
    "prep_item_features = res.loc[:,[\n",
    "    'brand_categ',\n",
    "    'id count',\n",
    "    'Цена шоурум mean',\n",
    "    'Цена шоурум min',\n",
    "    'Цена шоурум max',\n",
    "    'total_views',\n",
    "    'mean_views'\n",
    "]].drop_duplicates('brand_categ').set_index('brand_categ')\n",
    "item_features = csr_matrix(prep_item_features)"
   ],
   "metadata": {
    "collapsed": false,
    "pycharm": {
     "name": "#%%\n"
    }
   }
  },
  {
   "cell_type": "code",
   "execution_count": null,
   "outputs": [],
   "source": [
    "item_features"
   ],
   "metadata": {
    "collapsed": false,
    "pycharm": {
     "name": "#%%\n"
    }
   }
  },
  {
   "cell_type": "code",
   "execution_count": null,
   "outputs": [],
   "source": [
    "lightfm_model = LightFM()\n",
    "lightfm_model.fit(interactions=interactions)\n",
    "#                   , user_features=user_features, item_features=item_features, verbose=True)"
   ],
   "metadata": {
    "collapsed": false,
    "pycharm": {
     "name": "#%%\n"
    }
   }
  },
  {
   "cell_type": "code",
   "execution_count": null,
   "outputs": [],
   "source": [
    "lightfm_model.predict(1,[1,2,3,4,5])"
   ],
   "metadata": {
    "collapsed": false,
    "pycharm": {
     "name": "#%%\n"
    }
   }
  },
  {
   "cell_type": "code",
   "execution_count": null,
   "outputs": [],
   "source": [
    "interactions"
   ],
   "metadata": {
    "collapsed": false,
    "pycharm": {
     "name": "#%%\n"
    }
   }
  },
  {
   "cell_type": "code",
   "execution_count": null,
   "outputs": [],
   "source": [
    "pd.Series(precision_at_k(lightfm_model, \n",
    "               test_interactions=interactions, k=10)), pd.Series(recall_at_k(lightfm_model, \n",
    "                                                                  test_interactions=interactions, k =10))"
   ],
   "metadata": {
    "collapsed": false,
    "pycharm": {
     "name": "#%%\n"
    }
   }
  },
  {
   "cell_type": "code",
   "execution_count": null,
   "outputs": [],
   "source": [],
   "metadata": {
    "collapsed": false,
    "pycharm": {
     "name": "#%%\n"
    }
   }
  },
  {
   "cell_type": "code",
   "execution_count": null,
   "outputs": [],
   "source": [
    "# сделать таргет например, добавление в корзину, юзер-айтем фичи - остальное\n",
    "# лайт гбм с разбиением по времени на трейн тест (большой гэп) с метриками бинарной и сортировочной\n",
    "# лайт фм чек мтс + оценочку "
   ],
   "metadata": {
    "collapsed": false,
    "pycharm": {
     "name": "#%%\n"
    }
   }
  },
  {
   "cell_type": "code",
   "execution_count": null,
   "outputs": [],
   "source": [
    "# лайтгбм замерить метрики на месячной давности (пресижн эт кей)"
   ],
   "metadata": {
    "collapsed": false,
    "pycharm": {
     "name": "#%%\n"
    }
   }
  },
  {
   "cell_type": "markdown",
   "source": [
    "### лайтгбм"
   ],
   "metadata": {
    "collapsed": false,
    "pycharm": {
     "name": "#%% md\n"
    }
   }
  },
  {
   "cell_type": "code",
   "execution_count": null,
   "outputs": [],
   "source": [
    "from sklearn.model_selection import train_test_split\n",
    "from sklearn.ensemble import GradientBoostingClassifier\n",
    "from sklearn.metrics import roc_auc_score, accuracy_score, precision_score, recall_score, ndcg_score\n",
    "from sklearn.model_selection import StratifiedKFold"
   ],
   "metadata": {
    "collapsed": false,
    "pycharm": {
     "name": "#%%\n"
    }
   }
  },
  {
   "cell_type": "code",
   "execution_count": null,
   "outputs": [],
   "source": [
    "# X_train, X_test, y_train, y_test = train_test_split(res.drop(columns=['target',\n",
    "#                                                                       'cart_counter',\n",
    "#                                                                       'wishlist_counter',\n",
    "#                                                                       'value']), res.target,\n",
    "#                                                     stratify=res.target, \n",
    "#                                                     test_size=0.25)"
   ],
   "metadata": {
    "collapsed": false,
    "pycharm": {
     "name": "#%%\n"
    }
   }
  },
  {
   "cell_type": "code",
   "execution_count": null,
   "outputs": [],
   "source": [
    "lgbm_model = lightgbm.LGBMClassifier(boosting_type='gbdt',\n",
    "                        learning_rate=0.03,\n",
    "                        n_estimators= 5000,\n",
    "                        categorical_feature=['ym_client_id','brand_categ'],\n",
    "                        n_jobs= -1)\n",
    "# pred_test, oof_df, metric_OOF = cv_and_predict(\n",
    "#     df_train=X_train, \n",
    "#     df_test=X_test,\n",
    "#     train_y=y_train, \n",
    "#     model_kf= lgbm_model,\n",
    "#     model_type='lgbm')"
   ],
   "metadata": {
    "collapsed": false,
    "pycharm": {
     "name": "#%%\n"
    }
   }
  },
  {
   "cell_type": "code",
   "execution_count": null,
   "outputs": [],
   "source": [
    "X_test, y_test = gb_test.drop(columns=['target',\n",
    "                                     'cart_counter',\n",
    "                                     'wishlist_counter',\n",
    "                                     'full_target'\n",
    "                                     ]), gb_test.target"
   ],
   "metadata": {
    "collapsed": false,
    "pycharm": {
     "name": "#%%\n"
    }
   }
  },
  {
   "cell_type": "code",
   "execution_count": null,
   "outputs": [],
   "source": [
    "gb_full.brand_categ.nunique()"
   ],
   "metadata": {
    "collapsed": false,
    "pycharm": {
     "name": "#%%\n"
    }
   }
  },
  {
   "cell_type": "code",
   "execution_count": null,
   "outputs": [],
   "source": [
    "X_test"
   ],
   "metadata": {
    "collapsed": false,
    "pycharm": {
     "name": "#%%\n"
    }
   }
  },
  {
   "cell_type": "markdown",
   "source": [
    "### готовим трейн датасет (обучаем на сэмпле из старого датасета, тест на новом полном)"
   ],
   "metadata": {
    "collapsed": false,
    "pycharm": {
     "name": "#%% md\n"
    }
   }
  },
  {
   "cell_type": "code",
   "execution_count": null,
   "outputs": [],
   "source": [
    "metrics = {}\n",
    "\n",
    "for sample_size in tqdm(np.arange(10000, 200000, 10000)):\n",
    "    res = pd.concat([\n",
    "        gb_full_old.loc[gb_full_old.target==1], \n",
    "        gb_full_old.loc[gb_full_old.target==0].sample(\n",
    "            n=sample_size, \n",
    "            replace = False, \n",
    "            random_state = 42\n",
    "        )\n",
    "    ], axis = 0)\n",
    "\n",
    "    res.loc[:,'value'] = res.heat_count + res.cart_counter*10 + res.wishlist_counter*5\n",
    "\n",
    "    res.ym_client_id = res.ym_client_id.astype('category')\n",
    "\n",
    "    res.brand_categ = res.brand_categ.astype(\"category\")\n",
    "\n",
    "    X_train, y_train = res.drop(columns=['target',\n",
    "                                         'cart_counter',\n",
    "                                         'wishlist_counter',\n",
    "                                         'value']), res.target\n",
    "    lgbm_model = lightgbm.LGBMClassifier(boosting_type='gbdt',\n",
    "                            learning_rate=0.03,\n",
    "                            n_estimators= 5000,\n",
    "                            categorical_feature=['ym_client_id','brand_categ'],\n",
    "                            n_jobs= -1)\n",
    "    lgbm_model.fit(X_train, y_train)\n",
    "\n",
    "    preds_ = lgbm_model.predict_proba(X_test)\n",
    "\n",
    "    gb_test.loc[:,'predicted'] = preds_[:,1]\n",
    "\n",
    "    recommends = gb_test.pivot(index='ym_client_id', columns='brand_categ', values='predicted')\n",
    "\n",
    "    # изначально для сравнения с коллаборативной фильтрацией использовался full_target,\n",
    "    # который учитывает в качестве попаданий помимо корзин и вишлистов, еще и просмотры карточек товара\n",
    "    preferred = gb_test.pivot(index = 'ym_client_id', columns = 'brand_categ', values='full_target')\n",
    "\n",
    "\n",
    "    k = 10\n",
    "    precisions = []\n",
    "    recalls = []\n",
    "    ndcgs = []\n",
    "    for user in recommends.index:\n",
    "        predictions = recommends.loc[user]\n",
    "        true_values = preferred.loc[user]\n",
    "\n",
    "        compared = pd.DataFrame([predictions, true_values], index=['preds','true']).T\n",
    "        compared = compared.sort_values('preds', ascending = False)\n",
    "\n",
    "        precision = precision_score(compared.true.iloc[:k].map(lambda x: 1 if x > 0 else 0), \n",
    "                                    compared.preds.iloc[:k].map(lambda x: 1 if x > 0 else 0))\n",
    "        recall = recall_score(compared.true.iloc[:k].map(lambda x: 1 if x > 0 else 0), \n",
    "                              compared.preds.iloc[:k].map(lambda x: 1 if x > 0 else 0))/compared.true.map(lambda x: 1 if x > 0 else 0).sum()\n",
    "        ndcg = ndcg_score([compared.true.iloc[:k].to_list()], \n",
    "                              [compared.preds.iloc[:k].to_list()])\n",
    "        precisions.append(precision)\n",
    "        recalls.append(recall)\n",
    "        ndcgs.append(ndcg)\n",
    "#         print(user, precision, recall)\n",
    "    recalls = pd.Series(recalls).fillna(0)\n",
    "#     print(np.mean(precisions), recalls.mean())\n",
    "    metrics[sample_size] = [np.mean(precisions), np.mean(recalls), np.mean(ndcgs)]"
   ],
   "metadata": {
    "collapsed": false,
    "pycharm": {
     "name": "#%%\n"
    }
   }
  },
  {
   "cell_type": "markdown",
   "source": [
    "### рисуем графики метрик в зависимости от размера выборки в качестве гиперпараметра"
   ],
   "metadata": {
    "collapsed": false,
    "pycharm": {
     "name": "#%% md\n"
    }
   }
  },
  {
   "cell_type": "code",
   "execution_count": null,
   "outputs": [],
   "source": [
    "metrics_df = pd.DataFrame.from_dict(metrics)\n",
    "metrics_df.index = ['precision','recall','ndcg']\n",
    "metrics_df = metrics_df.T\n",
    "metrics_df.loc[:,'f_score@10'] = 2* (metrics_df.precision * metrics_df.recall) / (metrics_df.precision + metrics_df.recall)\n",
    "met_plottt = metrics_df.plot(figsize = (6,6))\n",
    "met_plottt.set_xlabel('размер выборки, млн наблюдений')\n",
    "met_plottt.set_ylabel('значения метрик')\n",
    "plt.axvline(metrics_df.recall.idxmax(), color = 'orange')\n",
    "plt.axvline(metrics_df.precision.idxmax(), color = 'blue')\n",
    "plt.axvline(metrics_df.ndcg.idxmax(), color = 'green')\n",
    "plt.axvline(metrics_df['f_score@10'].idxmax(), color = 'red')"
   ],
   "metadata": {
    "collapsed": false,
    "pycharm": {
     "name": "#%%\n"
    }
   }
  },
  {
   "cell_type": "code",
   "execution_count": null,
   "outputs": [],
   "source": [
    "metrics_df.to_csv('gradboost_metrics.csv')"
   ],
   "metadata": {
    "collapsed": false,
    "pycharm": {
     "name": "#%%\n"
    }
   }
  },
  {
   "cell_type": "markdown",
   "source": [
    "### обучаем модельку на оптимальном c точки зрения nDCG размере выборки"
   ],
   "metadata": {
    "collapsed": false,
    "pycharm": {
     "name": "#%% md\n"
    }
   }
  },
  {
   "cell_type": "code",
   "execution_count": null,
   "outputs": [],
   "source": [
    "res = pd.concat([\n",
    "        gb_full_old.loc[gb_full_old.target==1], \n",
    "        gb_full_old.loc[gb_full_old.target==0].sample(\n",
    "            n=metrics_df.ndcg.idxmax(),\n",
    "            replace = False, \n",
    "            random_state = 42\n",
    "        )\n",
    "    ], axis = 0)\n",
    "\n",
    "res.loc[:,'value'] = res.heat_count + res.cart_counter*10 + res.wishlist_counter*5\n",
    "\n",
    "res.ym_client_id = res.ym_client_id.astype('category')\n",
    "\n",
    "res.brand_categ = res.brand_categ.astype(\"category\")\n",
    "\n",
    "X_train, y_train = res.drop(columns=['target',\n",
    "                                     'cart_counter',\n",
    "                                     'wishlist_counter',\n",
    "                                     'value']), res.target\n",
    "lgbm_model = lightgbm.LGBMClassifier(boosting_type='gbdt',\n",
    "                        learning_rate=0.03,\n",
    "                        n_estimators= 5000,\n",
    "                        categorical_feature=['ym_client_id','brand_categ'],\n",
    "                        n_jobs= -1)\n",
    "lgbm_model.fit(X_train, y_train)"
   ],
   "metadata": {
    "collapsed": false,
    "pycharm": {
     "name": "#%%\n"
    }
   }
  },
  {
   "cell_type": "markdown",
   "source": [
    "### смотрим относительную важность фичей в модели"
   ],
   "metadata": {
    "collapsed": false,
    "pycharm": {
     "name": "#%% md\n"
    }
   }
  },
  {
   "cell_type": "code",
   "execution_count": null,
   "outputs": [],
   "source": [
    "importance_df = pd.DataFrame({\n",
    "        'feature': lgbm_model.feature_name_,\n",
    "        'importance': lgbm_model.feature_importances_,\n",
    "    }).sort_values('importance', ascending=False).replace({\n",
    "    'Цена_шоурум_mean':'price_mean',\n",
    "    'Цена_шоурум_max':'price_max',\n",
    "    'Цена_шоурум_min':'price_min'})\n",
    "importance_df.loc[:,'color'] = importance_df.feature.replace({'price_mean':'r','total_views':'r','views':'g','price_max':'r','price_min':'r','mean_views':'r','products_quan':'g','wish_quan':'g','id_count':'r','carts_quan':'g','heat_count':'g','ym_client_id':'g','brand_categ':'r'})\n",
    "importance_df.set_index('feature', inplace = True)\n",
    "importance_plot = importance_df.importance.plot(kind = 'bar', color = importance_df.color, figsize = (7,7))\n",
    "importance_plot.set_xlabel('признаки (зеленые - пользовательские)', fontsize = 16)\n",
    "importance_plot.set_ylabel('важность признаков', fontsize = 16)\n",
    "\n",
    "# .plot(kind = 'bar')"
   ],
   "metadata": {
    "collapsed": false,
    "pycharm": {
     "name": "#%%\n"
    }
   }
  },
  {
   "cell_type": "markdown",
   "source": [
    "### сохраняем модельку"
   ],
   "metadata": {
    "collapsed": false,
    "pycharm": {
     "name": "#%% md\n"
    }
   }
  },
  {
   "cell_type": "code",
   "execution_count": null,
   "outputs": [],
   "source": [
    "lgbm_model.booster_.save_model(path_to_repo + '/models/'+'lgb_model.txt')"
   ],
   "metadata": {
    "collapsed": false,
    "pycharm": {
     "name": "#%%\n"
    }
   }
  },
  {
   "cell_type": "markdown",
   "source": [
    "### подгружаем модельку"
   ],
   "metadata": {
    "collapsed": false,
    "pycharm": {
     "name": "#%% md\n"
    }
   }
  },
  {
   "cell_type": "code",
   "execution_count": null,
   "outputs": [],
   "source": [
    "model = lightgbm.Booster(model_file=path_to_repo + '/models/'+'lgb_model.txt')"
   ],
   "metadata": {
    "collapsed": false,
    "pycharm": {
     "name": "#%%\n"
    }
   }
  },
  {
   "cell_type": "code",
   "execution_count": null,
   "outputs": [],
   "source": [
    "model.predict(X_test.sample(n = 100000))"
   ],
   "metadata": {
    "collapsed": false,
    "pycharm": {
     "name": "#%%\n"
    }
   }
  },
  {
   "cell_type": "code",
   "execution_count": null,
   "outputs": [],
   "source": [
    "# preds_ = model.predict(X_test)\n",
    "\n",
    "gb_test.loc[:,'predicted'] = preds_\n",
    "\n",
    "recommends = gb_test.pivot(index='ym_client_id', columns='brand_categ', values='predicted')\n",
    "\n",
    "preferred = gb_test.pivot(index = 'ym_client_id', columns = 'brand_categ', values='target')\n",
    "\n",
    "# user = '1586839436824718143'\n",
    "k = 10\n",
    "precisions = []\n",
    "recalls = []\n",
    "ndcgs = []\n",
    "for user in recommends.index:\n",
    "    predictions = recommends.loc[user]\n",
    "    true_values = preferred.loc[user]\n",
    "\n",
    "    compared = pd.DataFrame([predictions, true_values], index=['preds','true']).T\n",
    "    compared = compared.sort_values('preds', ascending = False)\n",
    "\n",
    "    precision = precision_score(compared.true.iloc[:k].map(lambda x: 1 if x > 0 else 0), \n",
    "                                compared.preds.iloc[:k].map(lambda x: 1 if x > 0 else 0))\n",
    "    recall = recall_score(compared.true.iloc[:k].map(lambda x: 1 if x > 0 else 0), \n",
    "                          compared.preds.iloc[:k].map(lambda x: 1 if x > 0 else 0))/compared.true.map(lambda x: 1 if x > 0 else 0).sum()\n",
    "    ndcg = ndcg_score([compared.true.iloc[:k].to_list()], \n",
    "                          [compared.preds.iloc[:k].to_list()])\n",
    "    precisions.append(precision)\n",
    "    recalls.append(recall)\n",
    "    ndcgs.append(ndcg)\n",
    "#         print(user, precision, recall)\n",
    "recalls = pd.Series(recalls).fillna(0)\n",
    "#     print(np.mean(precisions), recalls.mean())\n",
    "[np.mean(precisions), np.mean(recalls), np.mean(ndcgs)]"
   ],
   "metadata": {
    "collapsed": false,
    "pycharm": {
     "name": "#%%\n"
    }
   }
  }
 ],
 "metadata": {
  "kernelspec": {
   "display_name": "Python 3 (ipykernel)",
   "language": "python",
   "name": "python3"
  },
  "language_info": {
   "codemirror_mode": {
    "name": "ipython",
    "version": 3
   },
   "file_extension": ".py",
   "mimetype": "text/x-python",
   "name": "python",
   "nbconvert_exporter": "python",
   "pygments_lexer": "ipython3",
   "version": "3.9.7"
  }
 },
 "nbformat": 4,
 "nbformat_minor": 5
}