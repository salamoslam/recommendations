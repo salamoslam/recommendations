{
 "cells": [
  {
   "cell_type": "code",
   "execution_count": 1,
   "id": "9e9db0b7",
   "metadata": {},
   "outputs": [],
   "source": [
    "import sys\n",
    "# insert at 1, 0 is the script path (or '' in REPL)\n",
    "sys.path.insert(1, '/Users/kuznetsovnikita/recommendations/src/data')\n",
    "\n",
    "from get_users_info import *\n",
    "from get_brand_category_info import *\n",
    "from get_preference_matrix import *"
   ]
  },
  {
   "cell_type": "code",
   "execution_count": 2,
   "id": "75bd53c4",
   "metadata": {},
   "outputs": [
    {
     "name": "stderr",
     "output_type": "stream",
     "text": [
      "/var/folders/k_/q2nqvc5s4b9g7bf4ljty8wd00000gn/T/ipykernel_96578/2098432738.py:1: DtypeWarning: Columns (7,8) have mixed types.Specify dtype option on import or set low_memory=False.\n",
      "  users_info = get_users_info(to_csv=False)\n"
     ]
    }
   ],
   "source": [
    "# инфо по пользователям\n",
    "users_info = get_users_info(to_csv=False)"
   ]
  },
  {
   "cell_type": "code",
   "execution_count": 3,
   "id": "a91256e0",
   "metadata": {},
   "outputs": [
    {
     "name": "stderr",
     "output_type": "stream",
     "text": [
      "/var/folders/k_/q2nqvc5s4b9g7bf4ljty8wd00000gn/T/ipykernel_96578/1868031141.py:2: DtypeWarning: Columns (7,8) have mixed types.Specify dtype option on import or set low_memory=False.\n",
      "  brand_cat = get_brand_category_info(to_csv=False)\n"
     ]
    }
   ],
   "source": [
    "# инфо по бренду/группе категорий\n",
    "brand_cat = get_brand_category_info(to_csv=False)"
   ]
  },
  {
   "cell_type": "code",
   "execution_count": 8,
   "id": "a94ba076",
   "metadata": {},
   "outputs": [
    {
     "name": "stderr",
     "output_type": "stream",
     "text": [
      "/var/folders/k_/q2nqvc5s4b9g7bf4ljty8wd00000gn/T/ipykernel_96578/885499441.py:2: DtypeWarning: Columns (7,8) have mixed types.Specify dtype option on import or set low_memory=False.\n",
      "  pref_matrix = get_pref_matrix(to_csv=False)\n"
     ]
    }
   ],
   "source": [
    "# матрица предпочтений\n",
    "pref_matrix = get_pref_matrix(to_csv=False)"
   ]
  }
 ],
 "metadata": {
  "kernelspec": {
   "display_name": "Python 3 (ipykernel)",
   "language": "python",
   "name": "python3"
  },
  "language_info": {
   "codemirror_mode": {
    "name": "ipython",
    "version": 3
   },
   "file_extension": ".py",
   "mimetype": "text/x-python",
   "name": "python",
   "nbconvert_exporter": "python",
   "pygments_lexer": "ipython3",
   "version": "3.9.2"
  }
 },
 "nbformat": 4,
 "nbformat_minor": 5
}
