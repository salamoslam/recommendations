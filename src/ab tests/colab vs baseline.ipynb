{
 "cells": [
  {
   "cell_type": "code",
   "execution_count": 59,
   "id": "6b760121",
   "metadata": {
    "pycharm": {
     "name": "#%%\n"
    }
   },
   "outputs": [],
   "source": [
    "import statsmodels.api as sm\n",
    "import statsmodels.formula.api as smf"
   ]
  },
  {
   "cell_type": "code",
   "execution_count": 54,
   "id": "1162479a",
   "metadata": {
    "pycharm": {
     "name": "#%%\n"
    }
   },
   "outputs": [],
   "source": [
    "import pandas as pd\n",
    "from pymongo import MongoClient\n",
    "import certifi\n",
    "import os\n",
    "from pathlib import Path\n",
    "import sys\n",
    "import requests\n",
    "import numpy as np"
   ]
  },
  {
   "cell_type": "code",
   "execution_count": 3,
   "id": "20b21ba3",
   "metadata": {
    "pycharm": {
     "name": "#%%\n"
    }
   },
   "outputs": [],
   "source": [
    "path_ = Path(sys.path[0])\n",
    "path_to_repo = str(path_.parent.parent.parent.absolute()) #здесь можно указать путь до папки, где лежит репозиторий\n",
    "path = path_to_repo + '/recommendations/data/raw'\n",
    "\n",
    "with open(path_to_repo+'/mongodb_pass.txt', 'r') as file:\n",
    "    path2 = file.read()\n",
    "\n",
    "path2 = path2.replace('\\n','')"
   ]
  },
  {
   "cell_type": "code",
   "execution_count": 23,
   "id": "6975b56a",
   "metadata": {
    "pycharm": {
     "name": "#%%\n"
    }
   },
   "outputs": [],
   "source": [
    "client = MongoClient(path2, tlsCAFile=certifi.where())\n",
    "current_db = client['spin_services']\n",
    "\n",
    "heats = pd.DataFrame(current_db['cs_cart_heats'].find())"
   ]
  },
  {
   "cell_type": "code",
   "execution_count": 13,
   "id": "c6faa0c6",
   "metadata": {
    "pycharm": {
     "name": "#%%\n"
    }
   },
   "outputs": [],
   "source": [
    "r = requests.get('https://spin4spin.com/index.php?dispatch=stat.get_ab_recs&access_key=Qh7KXPMDbcNpqYssMw=pf$xhhggw!8')\n",
    "groups = r.json()\n",
    "groups_df = pd.DataFrame.from_dict(groups['recs']).T.set_index('ym_id')\n",
    "\n",
    "groups_df.index = groups_df.index.str.strip()"
   ]
  },
  {
   "cell_type": "code",
   "execution_count": 40,
   "id": "bef25174",
   "metadata": {
    "pycharm": {
     "name": "#%%\n"
    }
   },
   "outputs": [],
   "source": [
    "merged = heats.loc[\n",
    "    heats.current_url.str.contains('recommend', na=False)].groupby(\n",
    "    'ym_client_id')._id.count().to_frame().join(groups_df)"
   ]
  },
  {
   "cell_type": "code",
   "execution_count": 45,
   "id": "d89a1024",
   "metadata": {
    "pycharm": {
     "name": "#%%\n"
    }
   },
   "outputs": [],
   "source": [
    "merged = merged.loc[~merged.value.isna()]"
   ]
  },
  {
   "cell_type": "code",
   "execution_count": 51,
   "id": "11825a3a",
   "metadata": {
    "pycharm": {
     "name": "#%%\n"
    }
   },
   "outputs": [],
   "source": [
    "merged_recs,merged_categs = merged.loc[merged.value == '1'], merged.loc[merged.value == '0']"
   ]
  },
  {
   "cell_type": "code",
   "execution_count": 60,
   "id": "d0fedd31",
   "metadata": {
    "pycharm": {
     "name": "#%%\n"
    }
   },
   "outputs": [
    {
     "name": "stderr",
     "output_type": "stream",
     "text": [
      "/Users/kuznetsovnikita/opt/anaconda3/lib/python3.9/site-packages/pandas/core/generic.py:5516: SettingWithCopyWarning: \n",
      "A value is trying to be set on a copy of a slice from a DataFrame.\n",
      "Try using .loc[row_indexer,col_indexer] = value instead\n",
      "\n",
      "See the caveats in the documentation: https://pandas.pydata.org/pandas-docs/stable/user_guide/indexing.html#returning-a-view-versus-a-copy\n",
      "  self[name] = value\n"
     ]
    }
   ],
   "source": [
    "merged.value = merged.value.astype(int)"
   ]
  },
  {
   "cell_type": "code",
   "execution_count": 62,
   "id": "87260d10",
   "metadata": {
    "pycharm": {
     "name": "#%%\n"
    }
   },
   "outputs": [],
   "source": [
    "model = smf.ols('_id ~ value', data = merged)"
   ]
  },
  {
   "cell_type": "code",
   "execution_count": 65,
   "id": "e4274e64",
   "metadata": {
    "pycharm": {
     "name": "#%%\n"
    }
   },
   "outputs": [],
   "source": [
    "results = model.fit()"
   ]
  },
  {
   "cell_type": "code",
   "execution_count": 68,
   "id": "ddb5f3ab",
   "metadata": {
    "pycharm": {
     "name": "#%%\n"
    }
   },
   "outputs": [
    {
     "data": {
      "text/html": [
       "<table class=\"simpletable\">\n",
       "<caption>OLS Regression Results</caption>\n",
       "<tr>\n",
       "  <th>Dep. Variable:</th>           <td>_id</td>       <th>  R-squared:         </th> <td>   0.022</td>\n",
       "</tr>\n",
       "<tr>\n",
       "  <th>Model:</th>                   <td>OLS</td>       <th>  Adj. R-squared:    </th> <td>   0.016</td>\n",
       "</tr>\n",
       "<tr>\n",
       "  <th>Method:</th>             <td>Least Squares</td>  <th>  F-statistic:       </th> <td>   3.519</td>\n",
       "</tr>\n",
       "<tr>\n",
       "  <th>Date:</th>             <td>Mon, 20 Jun 2022</td> <th>  Prob (F-statistic):</th>  <td>0.0626</td> \n",
       "</tr>\n",
       "<tr>\n",
       "  <th>Time:</th>                 <td>18:45:37</td>     <th>  Log-Likelihood:    </th> <td> -338.02</td>\n",
       "</tr>\n",
       "<tr>\n",
       "  <th>No. Observations:</th>      <td>   155</td>      <th>  AIC:               </th> <td>   680.0</td>\n",
       "</tr>\n",
       "<tr>\n",
       "  <th>Df Residuals:</th>          <td>   153</td>      <th>  BIC:               </th> <td>   686.1</td>\n",
       "</tr>\n",
       "<tr>\n",
       "  <th>Df Model:</th>              <td>     1</td>      <th>                     </th>     <td> </td>   \n",
       "</tr>\n",
       "<tr>\n",
       "  <th>Covariance Type:</th>      <td>nonrobust</td>    <th>                     </th>     <td> </td>   \n",
       "</tr>\n",
       "</table>\n",
       "<table class=\"simpletable\">\n",
       "<tr>\n",
       "      <td></td>         <th>coef</th>     <th>std err</th>      <th>t</th>      <th>P>|t|</th>  <th>[0.025</th>    <th>0.975]</th>  \n",
       "</tr>\n",
       "<tr>\n",
       "  <th>Intercept</th> <td>    2.5211</td> <td>    0.256</td> <td>    9.853</td> <td> 0.000</td> <td>    2.016</td> <td>    3.027</td>\n",
       "</tr>\n",
       "<tr>\n",
       "  <th>value</th>     <td>   -0.6521</td> <td>    0.348</td> <td>   -1.876</td> <td> 0.063</td> <td>   -1.339</td> <td>    0.035</td>\n",
       "</tr>\n",
       "</table>\n",
       "<table class=\"simpletable\">\n",
       "<tr>\n",
       "  <th>Omnibus:</th>       <td>111.929</td> <th>  Durbin-Watson:     </th> <td>   1.946</td> \n",
       "</tr>\n",
       "<tr>\n",
       "  <th>Prob(Omnibus):</th> <td> 0.000</td>  <th>  Jarque-Bera (JB):  </th> <td> 741.226</td> \n",
       "</tr>\n",
       "<tr>\n",
       "  <th>Skew:</th>          <td> 2.730</td>  <th>  Prob(JB):          </th> <td>1.11e-161</td>\n",
       "</tr>\n",
       "<tr>\n",
       "  <th>Kurtosis:</th>      <td>12.217</td>  <th>  Cond. No.          </th> <td>    2.73</td> \n",
       "</tr>\n",
       "</table><br/><br/>Notes:<br/>[1] Standard Errors assume that the covariance matrix of the errors is correctly specified."
      ],
      "text/plain": [
       "<class 'statsmodels.iolib.summary.Summary'>\n",
       "\"\"\"\n",
       "                            OLS Regression Results                            \n",
       "==============================================================================\n",
       "Dep. Variable:                    _id   R-squared:                       0.022\n",
       "Model:                            OLS   Adj. R-squared:                  0.016\n",
       "Method:                 Least Squares   F-statistic:                     3.519\n",
       "Date:                Mon, 20 Jun 2022   Prob (F-statistic):             0.0626\n",
       "Time:                        18:45:37   Log-Likelihood:                -338.02\n",
       "No. Observations:                 155   AIC:                             680.0\n",
       "Df Residuals:                     153   BIC:                             686.1\n",
       "Df Model:                           1                                         \n",
       "Covariance Type:            nonrobust                                         \n",
       "==============================================================================\n",
       "                 coef    std err          t      P>|t|      [0.025      0.975]\n",
       "------------------------------------------------------------------------------\n",
       "Intercept      2.5211      0.256      9.853      0.000       2.016       3.027\n",
       "value         -0.6521      0.348     -1.876      0.063      -1.339       0.035\n",
       "==============================================================================\n",
       "Omnibus:                      111.929   Durbin-Watson:                   1.946\n",
       "Prob(Omnibus):                  0.000   Jarque-Bera (JB):              741.226\n",
       "Skew:                           2.730   Prob(JB):                    1.11e-161\n",
       "Kurtosis:                      12.217   Cond. No.                         2.73\n",
       "==============================================================================\n",
       "\n",
       "Notes:\n",
       "[1] Standard Errors assume that the covariance matrix of the errors is correctly specified.\n",
       "\"\"\""
      ]
     },
     "execution_count": 68,
     "metadata": {},
     "output_type": "execute_result"
    }
   ],
   "source": [
    "results.summary()"
   ]
  },
  {
   "cell_type": "code",
   "execution_count": 69,
   "id": "c00ebc57",
   "metadata": {
    "pycharm": {
     "name": "#%%\n"
    }
   },
   "outputs": [
    {
     "data": {
      "text/plain": [
       "(2.5211267605633805, 1.869047619047619)"
      ]
     },
     "execution_count": 69,
     "metadata": {},
     "output_type": "execute_result"
    }
   ],
   "source": [
    "merged_categs._id.mean(), merged_recs._id.mean()"
   ]
  },
  {
   "cell_type": "code",
   "execution_count": null,
   "id": "37aeb967",
   "metadata": {
    "pycharm": {
     "name": "#%%\n"
    }
   },
   "outputs": [],
   "source": [
    "1625481536100736290 - хром\n",
    "1654844530958233689 - сафари"
   ]
  },
  {
   "cell_type": "code",
   "execution_count": null,
   "id": "3b5dbfe8",
   "metadata": {
    "pycharm": {
     "name": "#%%\n"
    }
   },
   "outputs": [],
   "source": [
    "# сделать коллекцию с пользователями: \n",
    "# - кол-во заходов (визитов)\n",
    "# - кол-во переходов по страницам\n",
    "# - среднее время посещения\n",
    "# - кол-во переходов "
   ]
  }
 ],
 "metadata": {
  "kernelspec": {
   "display_name": "Python 3 (ipykernel)",
   "language": "python",
   "name": "python3"
  },
  "language_info": {
   "codemirror_mode": {
    "name": "ipython",
    "version": 3
   },
   "file_extension": ".py",
   "mimetype": "text/x-python",
   "name": "python",
   "nbconvert_exporter": "python",
   "pygments_lexer": "ipython3",
   "version": "3.9.7"
  }
 },
 "nbformat": 4,
 "nbformat_minor": 5
}